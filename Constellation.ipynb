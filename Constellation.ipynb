{
 "cells": [
  {
   "cell_type": "markdown",
   "id": "66fa6f9c",
   "metadata": {},
   "source": [
    "# Lunar Relay Satellite Constellation Calculation\n",
    "\n",
    "### Constants:\n",
    "- **Moon Radius**:  \n",
    "  \\[\n",
    "  $R_{\\text{moon}} = 1737.4 \\, \\text{km}$\n",
    "  \\]\n",
    "- **Altitude of Satellites**:  \n",
    "  \\[\n",
    "  $h = 2000 \\, \\text{km}$\n",
    "  \\]\n",
    "- **Inclinations**:  \n",
    "  \\[\n",
    "  $i \\in [27^\\circ, 50^\\circ, 76^\\circ, 86^\\circ]$\n",
    "  \\]\n",
    "- **Maximum Field of View (FOV)**:  \n",
    "  \\[\n",
    "  $\\text{max\\_FOV} = 90^\\circ$\n",
    "  \\]\n",
    "- **Gravitational Parameter for the Moon**:  \n",
    "  \\[\n",
    "  $\\mu_{\\text{moon}} = 4905 $\n",
    "  \\]\n",
    "\n",
    "### Formulas Used:\n",
    "\n",
    "#### 1. **Horizon Distance**:\n",
    "The horizon distance (\\($d_{\\text{horizon}}$\\)) is given by:\n",
    "\\[\n",
    "$d_{\\text{horizon}} = \\sqrt{2 R_{\\text{moon}} h + h^2}$\n",
    "\\]\n",
    "where:\n",
    "- \\($R_{\\text{moon}}$\\) is the radius of the Moon.\n",
    "- \\(h\\) is the altitude of the satellite.\n",
    "\n",
    "#### 2. **Half-Angle Coverage**:\n",
    "The half-angle coverage (\\($\\theta_{\\text{half}}$\\)) is calculated using:\n",
    "\\[\n",
    "$\\theta_{\\text{half}} = \\arccos\\left(\\frac{R_{\\text{moon}}}{R_{\\text{moon}} + h}\\right)$\n",
    "\\]\n",
    "where:\n",
    "- \\($R_{\\text{moon}}$\\) is the radius of the Moon.\n",
    "- \\(h\\) is the altitude of the satellite.\n",
    "\n",
    "#### 3. **Adjusted Field of View (FOV)**:\n",
    "The adjusted FOV (\\($\\text{FOV}_{\\text{adj}}$\\)) is determined as:\n",
    "\\[\n",
    "$\\text{FOV}_{\\text{adj}} = \\min\\left( \\text{max\\_FOV}, 2 \\times \\theta_{\\text{half}} \\right)$\n",
    "\\]\n",
    "where:\n",
    "- \\($\\theta_{\\text{half}}$\\) is the half-angle coverage.\n",
    "- \\($\\text{max\\_FOV}$\\) is the maximum FOV, set to 90°.\n",
    "\n",
    "#### 4. **Satellites per Plane**:\n",
    "The number of satellites per plane (\\($N_{\\text{plane}}$\\)) is calculated as:\n",
    "\\[\n",
    "$N_{\\text{plane}} = \\frac{360}{\\text{FOV}_{\\text{adj}}}$\n",
    "\\]\n",
    "where:\n",
    "- \\($\\text{FOV}_{\\text{adj}}$\\) is the adjusted field of view.\n",
    "\n",
    "#### 5. **Total Satellites Needed**:\n",
    "The total number of satellites required for the constellation (\\($N_{\\text{total}}$\\)) is calculated as:\n",
    "\\[\n",
    "$N_{\\text{total}} = \\left\\lceil \\frac{4 \\pi R_{\\text{moon}}^2}{A_{\\text{coverage}}} \\right\\rceil$\n",
    "\\]\n",
    "where:\n",
    "- \\($A_{\\text{coverage}}$\\) is the coverage area per satellite, calculated as:\n",
    "\\[\n",
    "$A_{\\text{coverage}} = \\frac{\\text{FOV}_{\\text{adj}}}{360} \\times \\pi \\times (R_{\\text{moon}} + h)^2$\n",
    "\\]\n",
    "- \\($R_{\\text{moon}}$\\) is the radius of the Moon.\n",
    "- \\(h\\) is the altitude of the satellite.\n",
    "\n",
    "#### 6. **Satellite Coverage Area**:\n",
    "The coverage area per satellite is calculated as:\n",
    "\\[\n",
    "$A_{\\text{coverage}} = \\frac{\\text{FOV}_{\\text{adj}}}{360} \\times \\pi \\times (R_{\\text{moon}} + h)^2$\n",
    "\\]\n",
    "where:\n",
    "- \\($\\text{FOV}_{\\text{adj}}$\\) is the adjusted field of view.\n",
    "- \\($R_{\\text{moon}}$\\) is the radius of the Moon.\n",
    "- \\(h\\) is the altitude of the satellite.\n",
    "\n",
    "---\n",
    "\n",
    "### Results for Each Inclination:\n",
    "\n",
    "For each inclination, the following calculations are made:\n",
    "- **Horizon Distance**: The distance from the satellite to the horizon.\n",
    "- **Half-Angle Coverage**: The half-angle coverage of the satellite based on its altitude.\n",
    "- **Adjusted FOV**: The adjusted FOV for the satellite based on the maximum FOV constraint.\n",
    "- **Satellites per Plane**: The number of satellites per plane based on the adjusted FOV.\n",
    "- **Total Satellites**: The total number of satellites needed for the constellation based on the satellite coverage area.\n",
    "\n",
    "---\n",
    "\n"
   ]
  },
  {
   "cell_type": "code",
   "execution_count": 3,
   "id": "3b1aa941",
   "metadata": {},
   "outputs": [
    {
     "name": "stdout",
     "output_type": "stream",
     "text": [
      "Hybrid Lunar Relay Satellite Constellation Calculator\n",
      "\n",
      "Satellite Altitude: 2000 km\n",
      "\n",
      "Results for Inclination 27°:\n",
      "- Horizon Distance (km): 3309.02\n",
      "- Half-Angle Coverage (degrees): 62.30\n",
      "- Adjusted FOV (degrees): 90.00\n",
      "- Satellites per Plane: 4\n",
      "- Total Satellites: 4.0\n",
      "\n",
      "Results for Inclination 50°:\n",
      "- Horizon Distance (km): 3309.02\n",
      "- Half-Angle Coverage (degrees): 62.30\n",
      "- Adjusted FOV (degrees): 90.00\n",
      "- Satellites per Plane: 4\n",
      "- Total Satellites: 4.0\n",
      "\n",
      "Results for Inclination 76°:\n",
      "- Horizon Distance (km): 3309.02\n",
      "- Half-Angle Coverage (degrees): 62.30\n",
      "- Adjusted FOV (degrees): 90.00\n",
      "- Satellites per Plane: 4\n",
      "- Total Satellites: 4.0\n",
      "\n",
      "Results for Inclination 86°:\n",
      "- Horizon Distance (km): 3309.02\n",
      "- Half-Angle Coverage (degrees): 62.30\n",
      "- Adjusted FOV (degrees): 90.00\n",
      "- Satellites per Plane: 4\n",
      "- Total Satellites: 4.0\n",
      "\n",
      "Coverage Area per satellite: 10970566.24 km²\n"
     ]
    }
   ],
   "source": [
    "import numpy as np\n",
    "import math\n",
    "\n",
    "# Constants\n",
    "moon_radius = 1737.4  # km (average radius of the Moon)\n",
    "altitude = 2000        # km (altitude of the satellites)\n",
    "inclinations = [27, 50, 76, 86]  # Inclinations in degrees\n",
    "max_fov = 90           # Maximum FOV in degrees\n",
    "mu = 4905        # km^3/s^2 (gravitational parameter for the Moon)\n",
    "\n",
    "# Function to calculate horizon distance\n",
    "def horizon_distance(altitude):\n",
    "    return math.sqrt(2 * moon_radius * altitude + altitude**2)\n",
    "\n",
    "# Function to calculate half-angle coverage based on altitude\n",
    "def half_angle_coverage(altitude):\n",
    "    return math.degrees(math.acos(moon_radius / (moon_radius + altitude)))\n",
    "\n",
    "# Function to calculate adjusted FOV\n",
    "def adjusted_fov(altitude):\n",
    "    half_angle = half_angle_coverage(altitude)\n",
    "    return min(max_fov, half_angle * 2)\n",
    "\n",
    "# Function to calculate satellites per plane using adjusted FOV\n",
    "def satellites_per_plane(altitude):\n",
    "    adj_fov = adjusted_fov(altitude)\n",
    "    return 360 / adj_fov\n",
    "\n",
    "# Function to calculate total satellites needed\n",
    "def calculate_total_satellites(altitude, num_planes):\n",
    "    adj_fov = adjusted_fov(altitude)\n",
    "    r_orbit = moon_radius + altitude  # Orbital radius\n",
    "    coverage_area = adj_fov / 360 * np.pi * r_orbit**2  # Coverage per satellite\n",
    "    total_surface_area = 4 * np.pi * moon_radius**2  # Total moon surface area\n",
    "    satellites_needed = np.ceil(total_surface_area / coverage_area)\n",
    "    return satellites_needed\n",
    "\n",
    "# Function to display results\n",
    "def display_results(altitude, inclinations):\n",
    "    print(\"Hybrid Lunar Relay Satellite Constellation Calculator\\n\")\n",
    "    print(f\"Satellite Altitude: {altitude} km\\n\")\n",
    "\n",
    "    for inclination in inclinations:\n",
    "        horizon_dist = horizon_distance(altitude)\n",
    "        half_angle = half_angle_coverage(altitude)\n",
    "        adj_fov = adjusted_fov(altitude)\n",
    "        satellites_in_plane = math.ceil(satellites_per_plane(altitude))\n",
    "        total_sat = calculate_total_satellites(altitude, satellites_in_plane)\n",
    "\n",
    "        print(f\"Results for Inclination {inclination}°:\")\n",
    "        print(f\"- Horizon Distance (km): {horizon_dist:.2f}\")\n",
    "        print(f\"- Half-Angle Coverage (degrees): {half_angle:.2f}\")\n",
    "        print(f\"- Adjusted FOV (degrees): {adj_fov:.2f}\")\n",
    "        print(f\"- Satellites per Plane: {satellites_in_plane}\")\n",
    "        print(f\"- Total Satellites: {total_sat}\\n\")\n",
    "\n",
    "# Run the simulation\n",
    "display_results(altitude, inclinations)\n",
    "\n",
    "# Coverage Area Calculation\n",
    "A_coverage = (adjusted_fov (altitude) / 360) * math.pi * (moon_radius + altitude)**2\n",
    "\n",
    "print(f\"Coverage Area per satellite: {A_coverage:.2f} km²\")"
   ]
  },
  {
   "cell_type": "code",
   "execution_count": 1,
   "id": "6781bcab",
   "metadata": {},
   "outputs": [
    {
     "data": {
      "application/vnd.plotly.v1+json": {
       "config": {
        "plotlyServerURL": "https://plot.ly"
       },
       "data": [
        {
         "colorscale": [
          [
           0,
           "rgb(0, 0, 0)"
          ],
          [
           0.09090909090909091,
           "rgb(16, 16, 16)"
          ],
          [
           0.18181818181818182,
           "rgb(38, 38, 38)"
          ],
          [
           0.2727272727272727,
           "rgb(59, 59, 59)"
          ],
          [
           0.36363636363636365,
           "rgb(81, 80, 80)"
          ],
          [
           0.45454545454545453,
           "rgb(102, 101, 101)"
          ],
          [
           0.5454545454545454,
           "rgb(124, 123, 122)"
          ],
          [
           0.6363636363636364,
           "rgb(146, 146, 145)"
          ],
          [
           0.7272727272727273,
           "rgb(171, 171, 170)"
          ],
          [
           0.8181818181818182,
           "rgb(197, 197, 195)"
          ],
          [
           0.9090909090909091,
           "rgb(224, 224, 223)"
          ],
          [
           1,
           "rgb(254, 254, 253)"
          ]
         ],
         "opacity": 0.5,
         "showscale": false,
         "type": "surface",
         "x": {
          "bdata": "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",
          "dtype": "f8",
          "shape": "50, 25"
         },
         "y": {
          "bdata": "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",
          "dtype": "f8",
          "shape": "50, 25"
         },
         "z": {
          "bdata": "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",
          "dtype": "f8",
          "shape": "50, 25"
         }
        },
        {
         "marker": {
          "color": "red",
          "size": 5
         },
         "mode": "markers",
         "name": "Satellites",
         "type": "scatter3d",
         "x": {
          "bdata": "zczMzMwyrUCF8CEulxpQPc3MzMzMMq3AyOgyxeInaL0=",
          "dtype": "f8"
         },
         "y": {
          "bdata": "AAAAAAAAAABgQRR3GASqQCk7IZmCslw9YEEUdxgEqsA=",
          "dtype": "f8"
         },
         "z": {
          "bdata": "AAAAAAAAAABSs7Tz+YKaQAZN5b93Pk09UrO08/mCmsA=",
          "dtype": "f8"
         }
        },
        {
         "line": {
          "color": "blue",
          "width": 2
         },
         "mode": "lines",
         "name": "Coverage",
         "showlegend": true,
         "type": "scatter3d",
         "x": {
          "bdata": "nJmZmZkli8CcmZmZmSWLwJyZmZmZJYvAnJmZmZkli8CcmZmZmSWLwJyZmZmZJYvAnJmZmZkli8CcmZmZmSWLwJyZmZmZJYvAnJmZmZkli8CcmZmZmSWLwJyZmZmZJYvAnJmZmZkli8CcmZmZmSWLwJyZmZmZJYvAnJmZmZkli8CcmZmZmSWLwJyZmZmZJYvAnJmZmZkli8CcmZmZmSWLwJyZmZmZJYvAnJmZmZkli8CcmZmZmSWLwJyZmZmZJYvAnJmZmZkli8CcmZmZmSWLwJyZmZmZJYvAnJmZmZkli8CcmZmZmSWLwJyZmZmZJYvAnJmZmZkli8CcmZmZmSWLwJyZmZmZJYvAnJmZmZkli8CcmZmZmSWLwJyZmZmZJYvAnJmZmZkli8CcmZmZmSWLwJyZmZmZJYvAnJmZmZkli8CcmZmZmSWLwJyZmZmZJYvAnJmZmZkli8CcmZmZmSWLwJyZmZmZJYvAnJmZmZkli8CcmZmZmSWLwJyZmZmZJYvAnJmZmZkli8CcmZmZmSWLwJyZmZmZJYvAnJmZmZkli8CcmZmZmSWLwJyZmZmZJYvAnJmZmZkli8CcmZmZmSWLwJyZmZmZJYvAnJmZmZkli8CcmZmZmSWLwJyZmZmZJYvAnJmZmZkli8CcmZmZmSWLwJyZmZmZJYvAnJmZmZkli8CcmZmZmSWLwJyZmZmZJYvAnJmZmZkli8CcmZmZmSWLwJyZmZmZJYvAnJmZmZkli8CcmZmZmSWLwJyZmZmZJYvAnJmZmZkli8CcmZmZmSWLwJyZmZmZJYvAnJmZmZkli8CcmZmZmSWLwJyZmZmZJYvAnJmZmZkli8CcmZmZmSWLwJyZmZmZJYvAnJmZmZkli8CcmZmZmSWLwJyZmZmZJYvAnJmZmZkli8CcmZmZmSWLwJyZmZmZJYvAnJmZmZkli8CcmZmZmSWLwJyZmZmZJYvAnJmZmZkli8CcmZmZmSWLwJyZmZmZJYvAnJmZmZkli8CcmZmZmSWLwJyZmZmZJYvAnJmZmZkli8CcmZmZmSWLwJyZmZmZJYvAnJmZmZkli8A=",
          "dtype": "f8"
         },
         "y": {
          "bdata": "AAAAAAAAAADtiIcXgNtXwOsNWjg0z2fAriu9qQ7MccDFj8q7Kp53wAnPyUjuV33Af6TmL7l5gcDm8gOfdzWEwJLaFSJh3IbANgLA4rlricBnAFlV3uCLwPJNSPFFOY7AngLG5kI5kMDaplqPKUWRwK/m5MlCP5LABk3Nx4wmk8CM4yIeGfqTwDNWX7sNuZTA+hsxyKVilcAr7WNyMvaVwJtdFqEbc5bAVNeCkeDYlsDAV7pbGCeXwBsdyF5yXZfAccvOk7Z7l8AKXMnHxYGXwMlOtLuZb5fAaPb9KkVFl8CXPDe48wKXwHPFGMDpqJbARNAKE4Q3lsB6eXiVN6+VwLL9UMeQEJXAMzMzMzNclMAkhdjF2JKTwLw3bQ5RtZLAWYWbaIDEkcCBISYRX8GQwKiRCUzwWY/AUkgVJtEQjcCtqmTYu6mKwILdfG0qJ4jArZTdRLOLhcDPOTdoBtqCwI5hLMbqFIDA2lLzqnZ+esAJ2+5GyLd0wOMz+EN9t23AkXceA8jgYcDcVI6nk95HwAZVjqeT3kdAm3ceA8jgYUDtM/hDfbdtQALb7kbIt3RA3lLzqnZ+ekCLYSzG6hSAQNE5N2gG2oJAqZTdRLOLhUCE3XxtKieIQKuqZNi7qYpAVEgVJtEQjUCmkQlM8FmPQIIhJhFfwZBAWIWbaIDEkUC9N20OUbWSQCOF2MXYkpNANDMzMzNclECz/VDHkBCVQHp5eJU3r5VAQ9AKE4Q3lkB0xRjA6aiWQJc8N7jzApdAaPb9KkVFl0DITrS7mW+XQApcycfFgZdAccvOk7Z7l0AbHchecl2XQMFXulsYJ5dAVNeCkeDYlkCbXRahG3OWQCztY3Iy9pVA+RsxyKVilUAyVl+7DbmUQIzjIh4Z+pNAB03Nx4wmk0Cu5uTJQj+SQNmmWo8pRZFAngLG5kI5kED3TUjxRTmOQGMAWVXe4ItANgLA4rlriUCU2hUiYdyGQOnyA593NYRAeqTmL7l5gUAJz8lI7ld9QMmPyrsqnndAoiu9qQ7McUDfDVo4NM9nQO+IhxeA21dAIZVElNLuWT0=",
          "dtype": "f8"
         },
         "z": {
          "bdata": "106ot4eCl8Acc6uzaXaXwBjTVCUcUpfABBqkeMQVl8ACZmXhoMGWwNCvEhsIVpbAyPdrD2nTlcCAYSJkSjqVwAIZDPBJi5TA5BRwGBzHk8BEbREXi+6SwJT3uSl2ApLAcQkbrNADkcDjMuM5QuePwFyq4B4Apo3A+DINFC5Gi8C131ynPsqIwEBu+2HBNIbAY7SOJGCIg8Aau1Fo3MeAwD8sus8Y7HvAeTMUZbArdsChPOlabVRwwAvPxxSq2GTAnlIbm/jlUcBXqhSVWN83QDKJWfh9z11Ag70wizXEakD7LzJZikJzQFYFzWofD3lACsZ6o9/BfkAL83umdSqCQGs73a9B4YRA2U6ot4eCh0DNqnm3kQuKQCmzLaTCeYxABdGKH5nKjkCuJLIG2X2QQNIjxoRlhZFAGOAFXuJ6kkDtyJyEUl2TQFnGt43MK5RADsohonvllEAkZ6pZoImVQLtGdICRF5ZATxZgxbyOlkCBJOBQp+6WQLsymUPuNpdArfNNHEdnl0D6JqwEgH+XQPomrASAf5dArfNNHEdnl0C7MplD7jaXQIEk4FCn7pZATxZgxbyOlkC8RnSAkReWQCRnqlmgiZVAD8ohonvllEBZxreNzCuUQO3InIRSXZNAF+AFXuJ6kkDTI8aEZYWRQK4ksgbZfZBABtGKH5nKjkAmsy2kwnmMQNCqebeRC4pA0k6ot4eCh0BoO92vQeGEQAvze6Z1KoJAEcZ6o9/BfkBMBc1qHw95QPYvMlmKQnNAg70wizXEakBNiVn4fc9dQKapFJVY3zdAtFIbm/jlUcD/zscUqthkwJU86VptVHDAfjMUZbArdsA/LLrPGOx7wBa7UWjcx4DAaLSOJGCIg8BCbvthwTSGwLXfXKc+yojA9DINFC5Gi8BiquAeAKaNwOQy4zlC54/AcQkbrNADkcCS97kpdgKSwEVtEReL7pLA5BRwGBzHk8ACGQzwSYuUwH9hImRKOpXAyPdrD2nTlcDQrxIbCFaWwAJmZeGgwZbABRqkeMQVl8AY01QlHFKXwBxzq7NpdpfA106ot4eCl8A=",
          "dtype": "f8"
         }
        },
        {
         "line": {
          "color": "blue",
          "width": 2
         },
         "mode": "lines",
         "showlegend": false,
         "type": "scatter3d",
         "x": {
          "bdata": "Wf7DHNrxLb3yiIcXgNtXwO0NWjg0z2fAsSu9qQ7MccDHj8q7Kp53wAzPyUjuV33AgKTmL7l5gcDp8gOfdzWEwJTaFSJh3IbAOQLA4rlricBnAFlV3uCLwPRNSPFFOY7AnwLG5kI5kMDbplqPKUWRwLHm5MlCP5LACE3Nx4wmk8CO4yIeGfqTwDVWX7sNuZTA+xsxyKVilcAt7WNyMvaVwJxdFqEbc5bAVteCkeDYlsDBV7pbGCeXwB0dyF5yXZfAcsvOk7Z7l8AMXMnHxYGXwMtOtLuZb5fAavb9KkVFl8CYPDe48wKXwHXFGMDpqJbARtAKE4Q3lsB8eXiVN6+VwLT9UMeQEJXANDMzMzNclMAmhdjF2JKTwL43bQ5RtZLAW4WbaIDEkcCCISYRX8GQwKiRCUzwWY/AVEgVJtEQjcCwqmTYu6mKwIXdfG0qJ4jAr5TdRLOLhcDROTdoBtqCwJBhLMbqFIDA3FLzqnZ+esAL2+5GyLd0wOYz+EN9t23Ak3ceA8jgYcDlVI6nk95HwABVjqeT3kdAm3ceA8jgYUDtM/hDfbdtQAPb7kbIt3RA31LzqnZ+ekCLYSzG6hSAQNI5N2gG2oJAqpTdRLOLhUCF3XxtKieIQKyqZNi7qYpAVUgVJtEQjUCokQlM8FmPQIMhJhFfwZBAWoWbaIDEkUC/N20OUbWSQCWF2MXYkpNANjMzMzNclEC1/VDHkBCVQHx5eJU3r5VARdAKE4Q3lkB2xRjA6aiWQJg8N7jzApdAavb9KkVFl0DKTrS7mW+XQAxcycfFgZdAcsvOk7Z7l0AdHchecl2XQMJXulsYJ5dAVteCkeDYlkCcXRahG3OWQC7tY3Iy9pVA+hsxyKVilUA0Vl+7DbmUQI7jIh4Z+pNACU3Nx4wmk0Cv5uTJQj+SQNqmWo8pRZFAnwLG5kI5kED5TUjxRTmOQGUAWVXe4ItANwLA4rlriUCU2hUiYdyGQOryA593NYRAeqTmL7l5gUAJz8lI7ld9QMqPyrsqnndAoyu9qQ7McUDfDVo4NM9nQO2IhxeA21dAWBWsUJcwVj0=",
          "dtype": "f8"
         },
         "y": {
          "bdata": "qV5sy2zElsC1J0+C7L6WwMd6qFJxrpbATNCyOQyTlsDa2a502WyWwDxwx2MAPJbAlrh6YbMAlsDpV7KOL7uVwCI2wJO8a5XARcWAVqwSlcAp8e6lWrCUwAW+gNssRZTA2yOucpHRk8BO2A2X/1WTwJtsfan20pLA82DTvP1IksAoh6IKo7iRwOE7nmB7IpHA7ZY2hyGHkMCoYRVEa86PwJrsqhW5ho7AfWb+Tn44jcAzAQZ4E+WLwK8at3HWjYrA6p1cDSk0icA6+t2fb9mHwManbpIPf4bA5tsg8m0mhcC5Ndf/7dCDwE3JEMLvf4LA2gYJms40gcCUGkO7v+F/wIAPDu/ian3AyJL3HZEHe8Di8VVxQLp4wIiau2NQhXbAVlHDTgdrdMAxpsMSkG1ywNdz1Nr3jnDAIwzo/leibcAR4vMT8GtqwG+mx7UHfmfAn57I6aPbZMBpTO3ce4diwIJLIxf2g2DASg+tA0ymXcA6l02Ik+1awAOqAO6Q4FjA5QLjZWGBV8A6UHbybtFWwDpQdvJu0VbA5QLjZWGBV8ADqgDukOBYwDqXTYiT7VrASg+tA0ymXcCCSyMX9oNgwGlM7dx7h2LAm57I6aPbZMB5pse1B35nwBXi8xPwa2rAKgzo/leibcDXc9Ta945wwDSmwxKQbXLAWFHDTgdrdMCOmrtjUIV2wOTxVXFAunjA0pL3HZEHe8CFDw7v4mp9wJcaQ7u/4X/A2gYJms40gcBRyRDC73+CwLw11//t0IPA6Nsg8m0mhcDGp26SD3+GwD763Z9v2YfA7J1cDSk0icCvGrdx1o2KwDEBBngT5YvAf2b+Tn44jcCa7KoVuYaOwKhhFURrzo/A7pY2hyGHkMDjO55geyKRwCmHogqjuJHA82DTvP1IksCcbH2p9tKSwE/YDZf/VZPA2yOucpHRk8AFvoDbLEWUwCvx7qVasJTARsWAVqwSlcAiNsCTvGuVwOhXso4vu5XAlrh6YbMAlsA8cMdjADyWwNrZrnTZbJbATNCyOQyTlsDHeqhSca6WwLUnT4LsvpbAqV5sy2zElsA=",
          "dtype": "f8"
         },
         "z": {
          "bdata": "SxEIAAySjUDJvfoqdHyNQHhMCO7CO41AqYLf+DrQjECTheojSzqMQJvUC/6NeotAjeJLLcmRikB4iRuj7ICJQBVe/aQRSYhAINmUqnnrhkA5N0YSjWmFQPOlvK3ZxINAL6vVJxH/gUC7fphFBxqAQOtMDAhgL3xAUsJmKTv0d0A5Un92/IZzQN29cjdo2G1AiBfebEJRZEDD3YDBswRVQNkGpeS3cg1AbjyZeh2UU8C3oC09ojJkwK4bJuw0uW7A5p42lXapdMD29cvNbvp5wFmnFjUISn/A/NH9pGRJgsC4VtrMn+eEwFvknq4CfYfAFXrZhOMGisBE7vBmpIKMwFxWs/u17Y7AhhJxDs2ikMAZ0IE088ORwH7LaWAj2ZLArSDh1j/hk8D/7INXONuUwFPbdjULxpXArCQFYcaglsBJNyZhiGqXwPDN6TuBIpjAOOHaTPPHmMCIdHwINFqZwEW7Fqys2JnAM14f2dpCmsBCrpwbUZiawHg9+Vq32JrA6I/TNMsDm8CtSGxBYBmbwK1IbEFgGZvA6I/TNMsDm8B4Pflat9iawEKunBtRmJrAM14f2dpCmsBGuxasrNiZwIh0fAg0WpnAOeHaTPPHmMDvzek7gSKYwEk3JmGIapfAqyQFYcaglsBU23Y1C8aVwP/sg1c425TAriDh1j/hk8B8y2lgI9mSwBrQgTTzw5HAghJxDs2ikMBaVrP7te2OwETu8GakgozAF3rZhOMGisBX5J6uAn2HwLZW2syf54TA/dH9pGRJgsBfpxY1CEp/wO71y81u+nnA4542lXapdMC7GybsNLluwM+gLT2iMmTAZDyZeh2UU8AABqXkt3INQK/dgMGzBFVAmRfebEJRZEDnvXI3aNhtQDlSf3b8hnNAUMJmKTv0d0DxTAwIYC98QLx+mEUHGoBALqvVJxH/gUDypbyt2cSDQDw3RhKNaYVAINmUqnnrhkAVXv2kEUmIQHeJG6PsgIlAjuJLLcmRikCb1Av+jXqLQJOF6iNLOoxAqoLf+DrQjEB4TAjuwjuNQMm9+ip0fI1ASxEIAAySjUA=",
          "dtype": "f8"
         }
        },
        {
         "line": {
          "color": "blue",
          "width": 2
         },
         "mode": "lines",
         "showlegend": false,
         "type": "scatter3d",
         "x": {
          "bdata": "nJmZmZkli0CcmZmZmSWLQJyZmZmZJYtAnJmZmZkli0CcmZmZmSWLQJyZmZmZJYtAnJmZmZkli0CcmZmZmSWLQJyZmZmZJYtAnJmZmZkli0CcmZmZmSWLQJyZmZmZJYtAnJmZmZkli0CcmZmZmSWLQJyZmZmZJYtAnJmZmZkli0CcmZmZmSWLQJqZmZmZJYtAmpmZmZkli0CamZmZmSWLQJqZmZmZJYtAmpmZmZkli0CamZmZmSWLQJqZmZmZJYtAmpmZmZkli0CamZmZmSWLQJqZmZmZJYtAmpmZmZkli0CamZmZmSWLQJqZmZmZJYtAmpmZmZkli0CamZmZmSWLQJqZmZmZJYtAmpmZmZkli0CamZmZmSWLQJqZmZmZJYtAmpmZmZkli0CamZmZmSWLQJqZmZmZJYtAmpmZmZkli0CamZmZmSWLQJqZmZmZJYtAmpmZmZkli0CamZmZmSWLQJqZmZmZJYtAmpmZmZkli0CamZmZmSWLQJqZmZmZJYtAmpmZmZkli0CcmZmZmSWLQJyZmZmZJYtAnJmZmZkli0CcmZmZmSWLQJyZmZmZJYtAnJmZmZkli0CcmZmZmSWLQJyZmZmZJYtAnJmZmZkli0CcmZmZmSWLQJyZmZmZJYtAnJmZmZkli0CcmZmZmSWLQJyZmZmZJYtAnJmZmZkli0CcmZmZmSWLQJyZmZmZJYtAnZmZmZkli0CdmZmZmSWLQJ2ZmZmZJYtAnZmZmZkli0CdmZmZmSWLQJ2ZmZmZJYtAnZmZmZkli0CdmZmZmSWLQJ2ZmZmZJYtAnZmZmZkli0CdmZmZmSWLQJ2ZmZmZJYtAnZmZmZkli0CdmZmZmSWLQJ2ZmZmZJYtAnZmZmZkli0CdmZmZmSWLQJ2ZmZmZJYtAnZmZmZkli0CdmZmZmSWLQJ2ZmZmZJYtAnZmZmZkli0CdmZmZmSWLQJ2ZmZmZJYtAnZmZmZkli0CdmZmZmSWLQJ2ZmZmZJYtAnZmZmZkli0CdmZmZmSWLQJ2ZmZmZJYtAnZmZmZkli0CdmZmZmSWLQJyZmZmZJYtAnJmZmZkli0A=",
          "dtype": "f8"
         },
         "y": {
          "bdata": "78lH+1KuOr30iIcXgNtXwO4NWjg0z2fAsCu9qQ7MccDHj8q7Kp53wAvPyUjuV33AgKTmL7l5gcDn8gOfdzWEwJPaFSJh3IbANwLA4rlricBnAFlV3uCLwPJNSPFFOY7AngLG5kI5kMDaplqPKUWRwK/m5MlCP5LABk3Nx4wmk8CM4yIeGfqTwDNWX7sNuZTA+hsxyKVilcAr7WNyMvaVwJtdFqEbc5bAVNeCkeDYlsDAV7pbGCeXwBsdyF5yXZfAccvOk7Z7l8AKXMnHxYGXwMlOtLuZb5fAaPb9KkVFl8CXPDe48wKXwHPFGMDpqJbARNAKE4Q3lsB6eXiVN6+VwLL9UMeQEJXAMzMzMzNclMAkhdjF2JKTwLw3bQ5RtZLAWYWbaIDEkcCBISYRX8GQwKiRCUzwWY/AUkgVJtEQjcCuqmTYu6mKwIPdfG0qJ4jArZTdRLOLhcDQOTdoBtqCwI9hLMbqFIDA3FLzqnZ+esAK2+5GyLd0wOYz+EN9t23AlHceA8jgYcDpVI6nk95HwPhUjqeT3kdAmHceA8jgYUDpM/hDfbdtQADb7kbIt3RA3FLzqnZ+ekCKYSzG6hSAQNA5N2gG2oJAqJTdRLOLhUCD3XxtKieIQKqqZNi7qYpAVEgVJtEQjUCmkQlM8FmPQIIhJhFfwZBAWIWbaIDEkUC9N20OUbWSQCOF2MXYkpNANDMzMzNclECz/VDHkBCVQHp5eJU3r5VAQ9AKE4Q3lkB0xRjA6aiWQJc8N7jzApdAaPb9KkVFl0DITrS7mW+XQApcycfFgZdAccvOk7Z7l0AbHchecl2XQMFXulsYJ5dAVNeCkeDYlkCbXRahG3OWQCztY3Iy9pVA+RsxyKVilUAyVl+7DbmUQIzjIh4Z+pNAB03Nx4wmk0Cu5uTJQj+SQNmmWo8pRZFAngLG5kI5kED3TUjxRTmOQGMAWVXe4ItANgLA4rlriUCT2hUiYdyGQOnyA593NYRAeqTmL7l5gUAHz8lI7ld9QMePyrsqnndAoCu9qQ7McUDcDVo4NM9nQOiIhxeA21dApaJy1T1DUz0=",
          "dtype": "f8"
         },
         "z": {
          "bdata": "106ot4eCl0Acc6uzaXaXQBjTVCUcUpdABBqkeMQVl0ACZmXhoMGWQNCvEhsIVpZAyPdrD2nTlUCAYSJkSjqVQAIZDPBJi5RA5BRwGBzHk0BEbREXi+6SQJT3uSl2ApJAcQkbrNADkUDjMuM5QuePQFyq4B4Apo1A+DINFC5Gi0C031ynPsqIQD9u+2HBNIZAYrSOJGCIg0AZu1Fo3MeAQD0sus8Y7HtAeDMUZbArdkCgPOlabVRwQAnPxxSq2GRAm1Ibm/jlUUBkqhSVWN83wDWJWfh9z13Ahb0wizXEasD8LzJZikJzwFcFzWofD3nADMZ6o9/BfsAM83umdSqCwGs73a9B4YTA2k6ot4eCh8DOqnm3kQuKwCmzLaTCeYzABdGKH5nKjsCuJLIG2X2QwNIjxoRlhZHAGOAFXuJ6ksDtyJyEUl2TwFnGt43MK5TADsohonvllMAkZ6pZoImVwLtGdICRF5bATxZgxbyOlsCBJOBQp+6WwLsymUPuNpfArfNNHEdnl8D6JqwEgH+XwPomrASAf5fArfNNHEdnl8C7MplD7jaXwIEk4FCn7pbATxZgxbyOlsC8RnSAkReWwCRnqlmgiZXAD8ohonvllMBZxreNzCuUwO3InIRSXZPAF+AFXuJ6ksDTI8aEZYWRwK4ksgbZfZDABtGKH5nKjsAmsy2kwnmMwNGqebeRC4rA0k6ot4eCh8BpO92vQeGEwAzze6Z1KoLAE8Z6o9/BfsBNBc1qHw95wPcvMlmKQnPAhb0wizXEasBQiVn4fc9dwLOpFJVY3zfAsFIbm/jlUUD9zscUqthkQJQ86VptVHBAfTMUZbArdkA9LLrPGOx7QBW7UWjcx4BAZ7SOJGCIg0BBbvthwTSGQLTfXKc+yohA9DINFC5Gi0BiquAeAKaNQOQy4zlC549AcQkbrNADkUCS97kpdgKSQEVtEReL7pJA5BRwGBzHk0ACGQzwSYuUQH9hImRKOpVAyPdrD2nTlUDQrxIbCFaWQAJmZeGgwZZABRqkeMQVl0AY01QlHFKXQBxzq7NpdpdA106ot4eCl0A=",
          "dtype": "f8"
         }
        },
        {
         "line": {
          "color": "blue",
          "width": 2
         },
         "mode": "lines",
         "showlegend": false,
         "type": "scatter3d",
         "x": {
          "bdata": "w/6SlWN1Rj3kiIcXgNtXwOYNWjg0z2fAriu9qQ7MccDEj8q7Kp53wAfPyUjuV33AfqTmL7l5gcDm8gOfdzWEwJLaFSJh3IbANgLA4rlricBlAFlV3uCLwPJNSPFFOY7AngLG5kI5kMDaplqPKUWRwLDm5MlCP5LAB03Nx4wmk8CN4yIeGfqTwDRWX7sNuZTA+hsxyKVilcAs7WNyMvaVwJxdFqEbc5bAVdeCkeDYlsDAV7pbGCeXwBwdyF5yXZfAcsvOk7Z7l8ALXMnHxYGXwMpOtLuZb5fAafb9KkVFl8CXPDe48wKXwHTFGMDpqJbARdAKE4Q3lsB7eXiVN6+VwLP9UMeQEJXANDMzMzNclMAlhdjF2JKTwL03bQ5RtZLAWoWbaIDEkcCBISYRX8GQwKaRCUzwWY/AUkgVJtEQjcCtqmTYu6mKwILdfG0qJ4jArZTdRLOLhcDPOTdoBtqCwI1hLMbqFIDA2VLzqnZ+esAI2+5GyLd0wN8z+EN9t23AjHceA8jgYcDHVI6nk95HwB5VjqeT3kdAo3ceA8jgYUDzM/hDfbdtQAbb7kbIt3RA4lLzqnZ+ekCNYSzG6hSAQNU5N2gG2oJArZTdRLOLhUCH3XxtKieIQK6qZNi7qYpAV0gVJtEQjUCqkQlM8FmPQIQhJhFfwZBAW4WbaIDEkUDAN20OUbWSQCaF2MXYkpNANzMzMzNclEC2/VDHkBCVQHx5eJU3r5VARtAKE4Q3lkB2xRjA6aiWQJg8N7jzApdAavb9KkVFl0DLTrS7mW+XQA1cycfFgZdAc8vOk7Z7l0AeHchecl2XQMJXulsYJ5dAV9eCkeDYlkCdXRahG3OWQC/tY3Iy9pVA+xsxyKVilUA1Vl+7DbmUQI/jIh4Z+pNACk3Nx4wmk0Cw5uTJQj+SQNumWo8pRZFAoALG5kI5kED7TUjxRTmOQGcAWVXe4ItAOgLA4rlriUCX2hUiYdyGQO3yA593NYRAfaTmL7l5gUAOz8lI7ld9QM2PyrsqnndApiu9qQ7McUDnDVo4NM9nQPyIhxeA21dAQgqHL8KUYj0=",
          "dtype": "f8"
         },
         "y": {
          "bdata": "qV5sy2zElkC1J0+C7L6WQMd6qFJxrpZATNCyOQyTlkDa2a502WyWQDxwx2MAPJZAlrh6YbMAlkDpV7KOL7uVQCI2wJO8a5VARsWAVqwSlUAr8e6lWrCUQAa+gNssRZRA3SOucpHRk0BP2A2X/1WTQJxsfan20pJA9GDTvP1IkkAqh6IKo7iRQOM7nmB7IpFA7pY2hyGHkECqYRVEa86PQJzsqhW5ho5Af2b+Tn44jUA1AQZ4E+WLQLEat3HWjYpA7J1cDSk0iUA++t2fb9mHQMmnbpIPf4ZA6dsg8m0mhUC8Ndf/7dCDQFDJEMLvf4JA3QYJms40gUCaGkO7v+F/QIUPDu/ian1AzZL3HZEHe0Dn8VVxQLp4QIyau2NQhXZAW1HDTgdrdEA0psMSkG1yQNpz1Nr3jnBALgzo/leibUAb4vMT8GtqQHmmx7UHfmdAop7I6aPbZEBtTO3ce4diQIZLIxf2g2BAUQ+tA0ymXUA6l02Ik+1aQAOqAO6Q4FhA5QLjZWGBV0A6UHbybtFWQDpQdvJu0VZA5QLjZWGBV0ADqgDukOBYQDOXTYiT7VpAQw+tA0ymXUB/SyMX9oNgQGlM7dx7h2JAmJ7I6aPbZEBvpse1B35nQAvi8xPwa2pAIAzo/leibUDUc9Ta945wQDGmwxKQbXJAVFHDTgdrdECJmrtjUIV2QN/xVXFAunhAzZL3HZEHe0CADw7v4mp9QJQaQ7u/4X9A1wYJms40gUBOyRDC73+CQLk11//t0INA5Nsg8m0mhUDDp26SD3+GQDz63Z9v2YdA6p1cDSk0iUCsGrdx1o2KQC4BBngT5YtAe2b+Tn44jUCY7KoVuYaOQKVhFURrzo9A7ZY2hyGHkEDhO55geyKRQCiHogqjuJFA8mDTvP1IkkCbbH2p9tKSQE7YDZf/VZNA2yOucpHRk0ADvoDbLEWUQCnx7qVasJRARMWAVqwSlUAiNsCTvGuVQOhXso4vu5VAlrh6YbMAlkA8cMdjADyWQNrZrnTZbJZATNCyOQyTlkDHeqhSca6WQLUnT4LsvpZAqV5sy2zElkA=",
          "dtype": "f8"
         },
         "z": {
          "bdata": "SxEIAAySjcDJvfoqdHyNwHhMCO7CO43AqYLf+DrQjMCTheojSzqMwJvUC/6NeovAjeJLLcmRisB4iRuj7ICJwBVe/aQRSYjAINmUqnnrhsA5N0YSjWmFwPOlvK3ZxIPALqvVJxH/gcC5fphFBxqAwOdMDAhgL3zAUMJmKTv0d8A3Un92/IZzwNq9cjdo2G3AhRfebEJRZMC83YDBswRVwAAGpeS3cg3AezyZeh2UU0C8oC09ojJkQLUbJuw0uW5A6Z42lXapdED69cvNbvp5QFynFjUISn9A/tH9pGRJgkC5VtrMn+eEQF3knq4CfYdAFXrZhOMGikBE7vBmpIKMQF1Ws/u17Y5AhhJxDs2ikEAZ0IE088ORQH/LaWAj2ZJAriDh1j/hk0AA7YNXONuUQFTbdjULxpVArCQFYcaglkBJNyZhiGqXQPDN6TuBIphAOOHaTPPHmECIdHwINFqZQEW7Fqys2JlAM14f2dpCmkBCrpwbUZiaQHg9+Vq32JpA6I/TNMsDm0CtSGxBYBmbQK1IbEFgGZtA6I/TNMsDm0B4Pflat9iaQEKunBtRmJpAM14f2dpCmkBGuxasrNiZQIh0fAg0WplAOeHaTPPHmEDvzek7gSKYQEk3JmGIapdAqyQFYcaglkBT23Y1C8aVQP/sg1c425RArSDh1j/hk0B7y2lgI9mSQBnQgTTzw5FAgRJxDs2ikEBYVrP7te2OQETu8GakgoxAF3rZhOMGikBW5J6uAn2HQLRW2syf54RA/NH9pGRJgkBepxY1CEp/QOv1y81u+nlA4J42lXapdEC2GybsNLluQMigLT2iMmRAVjyZeh2UU0DZBqXkt3INwLXdgMGzBFXAnRfebEJRZMDrvXI3aNhtwDlSf3b8hnPAUsJmKTv0d8DzTAwIYC98wL5+mEUHGoDAL6vVJxH/gcDypbyt2cSDwDw3RhKNaYXAINmUqnnrhsAVXv2kEUmIwHeJG6PsgInAjuJLLcmRisCb1Av+jXqLwJOF6iNLOozAqoLf+DrQjMB4TAjuwjuNwMm9+ip0fI3ASxEIAAySjcA=",
          "dtype": "f8"
         }
        }
       ],
       "layout": {
        "height": 800,
        "scene": {
         "aspectmode": "data",
         "xaxis": {
          "title": {
           "text": "X (km)"
          }
         },
         "yaxis": {
          "title": {
           "text": "Y (km)"
          }
         },
         "zaxis": {
          "title": {
           "text": "Z (km)"
          }
         }
        },
        "template": {
         "data": {
          "bar": [
           {
            "error_x": {
             "color": "#2a3f5f"
            },
            "error_y": {
             "color": "#2a3f5f"
            },
            "marker": {
             "line": {
              "color": "#E5ECF6",
              "width": 0.5
             },
             "pattern": {
              "fillmode": "overlay",
              "size": 10,
              "solidity": 0.2
             }
            },
            "type": "bar"
           }
          ],
          "barpolar": [
           {
            "marker": {
             "line": {
              "color": "#E5ECF6",
              "width": 0.5
             },
             "pattern": {
              "fillmode": "overlay",
              "size": 10,
              "solidity": 0.2
             }
            },
            "type": "barpolar"
           }
          ],
          "carpet": [
           {
            "aaxis": {
             "endlinecolor": "#2a3f5f",
             "gridcolor": "white",
             "linecolor": "white",
             "minorgridcolor": "white",
             "startlinecolor": "#2a3f5f"
            },
            "baxis": {
             "endlinecolor": "#2a3f5f",
             "gridcolor": "white",
             "linecolor": "white",
             "minorgridcolor": "white",
             "startlinecolor": "#2a3f5f"
            },
            "type": "carpet"
           }
          ],
          "choropleth": [
           {
            "colorbar": {
             "outlinewidth": 0,
             "ticks": ""
            },
            "type": "choropleth"
           }
          ],
          "contour": [
           {
            "colorbar": {
             "outlinewidth": 0,
             "ticks": ""
            },
            "colorscale": [
             [
              0,
              "#0d0887"
             ],
             [
              0.1111111111111111,
              "#46039f"
             ],
             [
              0.2222222222222222,
              "#7201a8"
             ],
             [
              0.3333333333333333,
              "#9c179e"
             ],
             [
              0.4444444444444444,
              "#bd3786"
             ],
             [
              0.5555555555555556,
              "#d8576b"
             ],
             [
              0.6666666666666666,
              "#ed7953"
             ],
             [
              0.7777777777777778,
              "#fb9f3a"
             ],
             [
              0.8888888888888888,
              "#fdca26"
             ],
             [
              1,
              "#f0f921"
             ]
            ],
            "type": "contour"
           }
          ],
          "contourcarpet": [
           {
            "colorbar": {
             "outlinewidth": 0,
             "ticks": ""
            },
            "type": "contourcarpet"
           }
          ],
          "heatmap": [
           {
            "colorbar": {
             "outlinewidth": 0,
             "ticks": ""
            },
            "colorscale": [
             [
              0,
              "#0d0887"
             ],
             [
              0.1111111111111111,
              "#46039f"
             ],
             [
              0.2222222222222222,
              "#7201a8"
             ],
             [
              0.3333333333333333,
              "#9c179e"
             ],
             [
              0.4444444444444444,
              "#bd3786"
             ],
             [
              0.5555555555555556,
              "#d8576b"
             ],
             [
              0.6666666666666666,
              "#ed7953"
             ],
             [
              0.7777777777777778,
              "#fb9f3a"
             ],
             [
              0.8888888888888888,
              "#fdca26"
             ],
             [
              1,
              "#f0f921"
             ]
            ],
            "type": "heatmap"
           }
          ],
          "histogram": [
           {
            "marker": {
             "pattern": {
              "fillmode": "overlay",
              "size": 10,
              "solidity": 0.2
             }
            },
            "type": "histogram"
           }
          ],
          "histogram2d": [
           {
            "colorbar": {
             "outlinewidth": 0,
             "ticks": ""
            },
            "colorscale": [
             [
              0,
              "#0d0887"
             ],
             [
              0.1111111111111111,
              "#46039f"
             ],
             [
              0.2222222222222222,
              "#7201a8"
             ],
             [
              0.3333333333333333,
              "#9c179e"
             ],
             [
              0.4444444444444444,
              "#bd3786"
             ],
             [
              0.5555555555555556,
              "#d8576b"
             ],
             [
              0.6666666666666666,
              "#ed7953"
             ],
             [
              0.7777777777777778,
              "#fb9f3a"
             ],
             [
              0.8888888888888888,
              "#fdca26"
             ],
             [
              1,
              "#f0f921"
             ]
            ],
            "type": "histogram2d"
           }
          ],
          "histogram2dcontour": [
           {
            "colorbar": {
             "outlinewidth": 0,
             "ticks": ""
            },
            "colorscale": [
             [
              0,
              "#0d0887"
             ],
             [
              0.1111111111111111,
              "#46039f"
             ],
             [
              0.2222222222222222,
              "#7201a8"
             ],
             [
              0.3333333333333333,
              "#9c179e"
             ],
             [
              0.4444444444444444,
              "#bd3786"
             ],
             [
              0.5555555555555556,
              "#d8576b"
             ],
             [
              0.6666666666666666,
              "#ed7953"
             ],
             [
              0.7777777777777778,
              "#fb9f3a"
             ],
             [
              0.8888888888888888,
              "#fdca26"
             ],
             [
              1,
              "#f0f921"
             ]
            ],
            "type": "histogram2dcontour"
           }
          ],
          "mesh3d": [
           {
            "colorbar": {
             "outlinewidth": 0,
             "ticks": ""
            },
            "type": "mesh3d"
           }
          ],
          "parcoords": [
           {
            "line": {
             "colorbar": {
              "outlinewidth": 0,
              "ticks": ""
             }
            },
            "type": "parcoords"
           }
          ],
          "pie": [
           {
            "automargin": true,
            "type": "pie"
           }
          ],
          "scatter": [
           {
            "fillpattern": {
             "fillmode": "overlay",
             "size": 10,
             "solidity": 0.2
            },
            "type": "scatter"
           }
          ],
          "scatter3d": [
           {
            "line": {
             "colorbar": {
              "outlinewidth": 0,
              "ticks": ""
             }
            },
            "marker": {
             "colorbar": {
              "outlinewidth": 0,
              "ticks": ""
             }
            },
            "type": "scatter3d"
           }
          ],
          "scattercarpet": [
           {
            "marker": {
             "colorbar": {
              "outlinewidth": 0,
              "ticks": ""
             }
            },
            "type": "scattercarpet"
           }
          ],
          "scattergeo": [
           {
            "marker": {
             "colorbar": {
              "outlinewidth": 0,
              "ticks": ""
             }
            },
            "type": "scattergeo"
           }
          ],
          "scattergl": [
           {
            "marker": {
             "colorbar": {
              "outlinewidth": 0,
              "ticks": ""
             }
            },
            "type": "scattergl"
           }
          ],
          "scattermap": [
           {
            "marker": {
             "colorbar": {
              "outlinewidth": 0,
              "ticks": ""
             }
            },
            "type": "scattermap"
           }
          ],
          "scattermapbox": [
           {
            "marker": {
             "colorbar": {
              "outlinewidth": 0,
              "ticks": ""
             }
            },
            "type": "scattermapbox"
           }
          ],
          "scatterpolar": [
           {
            "marker": {
             "colorbar": {
              "outlinewidth": 0,
              "ticks": ""
             }
            },
            "type": "scatterpolar"
           }
          ],
          "scatterpolargl": [
           {
            "marker": {
             "colorbar": {
              "outlinewidth": 0,
              "ticks": ""
             }
            },
            "type": "scatterpolargl"
           }
          ],
          "scatterternary": [
           {
            "marker": {
             "colorbar": {
              "outlinewidth": 0,
              "ticks": ""
             }
            },
            "type": "scatterternary"
           }
          ],
          "surface": [
           {
            "colorbar": {
             "outlinewidth": 0,
             "ticks": ""
            },
            "colorscale": [
             [
              0,
              "#0d0887"
             ],
             [
              0.1111111111111111,
              "#46039f"
             ],
             [
              0.2222222222222222,
              "#7201a8"
             ],
             [
              0.3333333333333333,
              "#9c179e"
             ],
             [
              0.4444444444444444,
              "#bd3786"
             ],
             [
              0.5555555555555556,
              "#d8576b"
             ],
             [
              0.6666666666666666,
              "#ed7953"
             ],
             [
              0.7777777777777778,
              "#fb9f3a"
             ],
             [
              0.8888888888888888,
              "#fdca26"
             ],
             [
              1,
              "#f0f921"
             ]
            ],
            "type": "surface"
           }
          ],
          "table": [
           {
            "cells": {
             "fill": {
              "color": "#EBF0F8"
             },
             "line": {
              "color": "white"
             }
            },
            "header": {
             "fill": {
              "color": "#C8D4E3"
             },
             "line": {
              "color": "white"
             }
            },
            "type": "table"
           }
          ]
         },
         "layout": {
          "annotationdefaults": {
           "arrowcolor": "#2a3f5f",
           "arrowhead": 0,
           "arrowwidth": 1
          },
          "autotypenumbers": "strict",
          "coloraxis": {
           "colorbar": {
            "outlinewidth": 0,
            "ticks": ""
           }
          },
          "colorscale": {
           "diverging": [
            [
             0,
             "#8e0152"
            ],
            [
             0.1,
             "#c51b7d"
            ],
            [
             0.2,
             "#de77ae"
            ],
            [
             0.3,
             "#f1b6da"
            ],
            [
             0.4,
             "#fde0ef"
            ],
            [
             0.5,
             "#f7f7f7"
            ],
            [
             0.6,
             "#e6f5d0"
            ],
            [
             0.7,
             "#b8e186"
            ],
            [
             0.8,
             "#7fbc41"
            ],
            [
             0.9,
             "#4d9221"
            ],
            [
             1,
             "#276419"
            ]
           ],
           "sequential": [
            [
             0,
             "#0d0887"
            ],
            [
             0.1111111111111111,
             "#46039f"
            ],
            [
             0.2222222222222222,
             "#7201a8"
            ],
            [
             0.3333333333333333,
             "#9c179e"
            ],
            [
             0.4444444444444444,
             "#bd3786"
            ],
            [
             0.5555555555555556,
             "#d8576b"
            ],
            [
             0.6666666666666666,
             "#ed7953"
            ],
            [
             0.7777777777777778,
             "#fb9f3a"
            ],
            [
             0.8888888888888888,
             "#fdca26"
            ],
            [
             1,
             "#f0f921"
            ]
           ],
           "sequentialminus": [
            [
             0,
             "#0d0887"
            ],
            [
             0.1111111111111111,
             "#46039f"
            ],
            [
             0.2222222222222222,
             "#7201a8"
            ],
            [
             0.3333333333333333,
             "#9c179e"
            ],
            [
             0.4444444444444444,
             "#bd3786"
            ],
            [
             0.5555555555555556,
             "#d8576b"
            ],
            [
             0.6666666666666666,
             "#ed7953"
            ],
            [
             0.7777777777777778,
             "#fb9f3a"
            ],
            [
             0.8888888888888888,
             "#fdca26"
            ],
            [
             1,
             "#f0f921"
            ]
           ]
          },
          "colorway": [
           "#636efa",
           "#EF553B",
           "#00cc96",
           "#ab63fa",
           "#FFA15A",
           "#19d3f3",
           "#FF6692",
           "#B6E880",
           "#FF97FF",
           "#FECB52"
          ],
          "font": {
           "color": "#2a3f5f"
          },
          "geo": {
           "bgcolor": "white",
           "lakecolor": "white",
           "landcolor": "#E5ECF6",
           "showlakes": true,
           "showland": true,
           "subunitcolor": "white"
          },
          "hoverlabel": {
           "align": "left"
          },
          "hovermode": "closest",
          "mapbox": {
           "style": "light"
          },
          "paper_bgcolor": "white",
          "plot_bgcolor": "#E5ECF6",
          "polar": {
           "angularaxis": {
            "gridcolor": "white",
            "linecolor": "white",
            "ticks": ""
           },
           "bgcolor": "#E5ECF6",
           "radialaxis": {
            "gridcolor": "white",
            "linecolor": "white",
            "ticks": ""
           }
          },
          "scene": {
           "xaxis": {
            "backgroundcolor": "#E5ECF6",
            "gridcolor": "white",
            "gridwidth": 2,
            "linecolor": "white",
            "showbackground": true,
            "ticks": "",
            "zerolinecolor": "white"
           },
           "yaxis": {
            "backgroundcolor": "#E5ECF6",
            "gridcolor": "white",
            "gridwidth": 2,
            "linecolor": "white",
            "showbackground": true,
            "ticks": "",
            "zerolinecolor": "white"
           },
           "zaxis": {
            "backgroundcolor": "#E5ECF6",
            "gridcolor": "white",
            "gridwidth": 2,
            "linecolor": "white",
            "showbackground": true,
            "ticks": "",
            "zerolinecolor": "white"
           }
          },
          "shapedefaults": {
           "line": {
            "color": "#2a3f5f"
           }
          },
          "ternary": {
           "aaxis": {
            "gridcolor": "white",
            "linecolor": "white",
            "ticks": ""
           },
           "baxis": {
            "gridcolor": "white",
            "linecolor": "white",
            "ticks": ""
           },
           "bgcolor": "#E5ECF6",
           "caxis": {
            "gridcolor": "white",
            "linecolor": "white",
            "ticks": ""
           }
          },
          "title": {
           "x": 0.05
          },
          "xaxis": {
           "automargin": true,
           "gridcolor": "white",
           "linecolor": "white",
           "ticks": "",
           "title": {
            "standoff": 15
           },
           "zerolinecolor": "white",
           "zerolinewidth": 2
          },
          "yaxis": {
           "automargin": true,
           "gridcolor": "white",
           "linecolor": "white",
           "ticks": "",
           "title": {
            "standoff": 15
           },
           "zerolinecolor": "white",
           "zerolinewidth": 2
          }
         }
        },
        "title": {
         "text": "Satellite Footprints, Inclination = 27°"
        },
        "width": 800
       }
      }
     },
     "metadata": {},
     "output_type": "display_data"
    }
   ],
   "source": [
    "import numpy as np\n",
    "import plotly.graph_objects as go\n",
    "\n",
    "# Constants\n",
    "moon_radius = 1737.4  # km\n",
    "altitude = 2000        # km\n",
    "max_fov = 60          # degrees\n",
    "inclination = 27      # degrees\n",
    "\n",
    "# Coverage half-angle\n",
    "half_ang = np.radians(min(max_fov, np.degrees(np.arccos(moon_radius / (moon_radius + altitude)))))\n",
    "\n",
    "# Orbital radius\n",
    "r_orbit = moon_radius + altitude\n",
    "\n",
    "# Number of satellites per plane\n",
    "n_sat = int(np.ceil(360 / (2 * np.degrees(half_ang))))\n",
    "phis = np.linspace(0, 2*np.pi, n_sat, endpoint=False)\n",
    "\n",
    "# Satellite positions in inclined orbital plane\n",
    "inc = np.radians(inclination)\n",
    "x_orb = r_orbit * np.cos(phis)\n",
    "y_orb = r_orbit * np.sin(phis) * np.cos(inc)\n",
    "z_orb = r_orbit * np.sin(phis) * np.sin(inc)\n",
    "sat_positions = np.vstack([x_orb, y_orb, z_orb]).T\n",
    "\n",
    "# Function to compute coverage circle on sphere for a satellite\n",
    "def coverage_circle(sat_pos, half_ang, R):\n",
    "    d = -sat_pos / np.linalg.norm(sat_pos)  # nadir direction\n",
    "    arbitrary = np.array([1,0,0]) if abs(d[0])<0.9 else np.array([0,1,0])\n",
    "    v = np.cross(d, arbitrary)\n",
    "    v /= np.linalg.norm(v)\n",
    "    w = np.cross(d, v)\n",
    "    thetas = np.linspace(0, 2*np.pi, 100)\n",
    "    circle = []\n",
    "    for th in thetas:\n",
    "        direction = np.cos(half_ang)*d + np.sin(half_ang)*(v*np.cos(th)+w*np.sin(th))\n",
    "        point = R * direction\n",
    "        circle.append(point)\n",
    "    return np.array(circle)\n",
    "\n",
    "# Build figure\n",
    "fig = go.Figure()\n",
    "\n",
    "# Plot Moon surface\n",
    "u, v = np.mgrid[0:2*np.pi:50j, 0:np.pi:25j]\n",
    "x_s = moon_radius * np.cos(u) * np.sin(v)\n",
    "y_s = moon_radius * np.sin(u) * np.sin(v)\n",
    "z_s = moon_radius * np.cos(v)\n",
    "fig.add_trace(go.Surface(x=x_s, y=y_s, z=z_s, colorscale='Gray', opacity=0.5, showscale=False))\n",
    "\n",
    "# Plot satellites\n",
    "fig.add_trace(go.Scatter3d(\n",
    "    x=sat_positions[:,0], y=sat_positions[:,1], z=sat_positions[:,2],\n",
    "    mode='markers', marker=dict(size=5, color='red'), name='Satellites'\n",
    "))\n",
    "\n",
    "# Plot coverage circles on surface\n",
    "for i, sat in enumerate(sat_positions):\n",
    "    circle = coverage_circle(sat, half_ang, moon_radius)\n",
    "    fig.add_trace(go.Scatter3d(\n",
    "        x=circle[:,0], y=circle[:,1], z=circle[:,2],\n",
    "        mode='lines', line=dict(color='blue', width=2),\n",
    "        name='Coverage' if i==0 else None, showlegend=(i==0)\n",
    "    ))\n",
    "\n",
    "# Layout\n",
    "fig.update_layout(\n",
    "    title=f\"Satellite Footprints, Inclination = {inclination}°\",\n",
    "    scene=dict(\n",
    "        xaxis=dict(title='X (km)'),\n",
    "        yaxis=dict(title='Y (km)'),\n",
    "        zaxis=dict(title='Z (km)'),\n",
    "        aspectmode='data'\n",
    "    ),\n",
    "    width=800, height=800\n",
    ")\n",
    "\n"
   ]
  },
  {
   "cell_type": "code",
   "execution_count": 5,
   "id": "b2a564a2",
   "metadata": {},
   "outputs": [
    {
     "data": {
      "application/vnd.plotly.v1+json": {
       "config": {
        "plotlyServerURL": "https://plot.ly"
       },
       "data": [
        {
         "colorscale": [
          [
           0,
           "rgb(0, 0, 0)"
          ],
          [
           0.09090909090909091,
           "rgb(16, 16, 16)"
          ],
          [
           0.18181818181818182,
           "rgb(38, 38, 38)"
          ],
          [
           0.2727272727272727,
           "rgb(59, 59, 59)"
          ],
          [
           0.36363636363636365,
           "rgb(81, 80, 80)"
          ],
          [
           0.45454545454545453,
           "rgb(102, 101, 101)"
          ],
          [
           0.5454545454545454,
           "rgb(124, 123, 122)"
          ],
          [
           0.6363636363636364,
           "rgb(146, 146, 145)"
          ],
          [
           0.7272727272727273,
           "rgb(171, 171, 170)"
          ],
          [
           0.8181818181818182,
           "rgb(197, 197, 195)"
          ],
          [
           0.9090909090909091,
           "rgb(224, 224, 223)"
          ],
          [
           1,
           "rgb(254, 254, 253)"
          ]
         ],
         "opacity": 0.5,
         "showscale": false,
         "type": "surface",
         "x": {
          "bdata": "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",
          "dtype": "f8",
          "shape": "50, 25"
         },
         "y": {
          "bdata": "AAAAAAAAAAAAAAAAAAAAAAAAAAAAAAAAAAAAAAAAAAAAAAAAAAAAAAAAAAAAAAAAAAAAAAAAAAAAAAAAAAAAAAAAAAAAAAAAAAAAAAAAAAAAAAAAAAAAAAAAAAAAAAAAAAAAAAAAAAAAAAAAAAAAAAAAAAAAAAAAAAAAAAAAAAAAAAAAAAAAAAAAAAAAAAAAAAAAAAAAAAAAAAAAAAAAAAAAAAAAAAAAAAAAAAAAAAAAAAAAAAAAAAAAAAAAAAAAAAAAAAAAAAAAAAAAAAAAAHbDPxPf/zxAYPKB8FvATEAEvFYibEFVQNSekJyPxVtA2pPuyAboYEARexsCOKNjQBmuJdpkCGZAdfS8dw8NaECIpo28YKhpQKn3O/5O02pA3PEZ2ryIa0DVnpCcj8VrQN3xGdq8iGtAqvc7/k7TakCJpo28YKhpQHb0vHcPDWhAG64l2mQIZkASexsCOKNjQNyT7sgG6GBA2p6QnI/FW0AGvFYibEFVQGnygfBbwExAkMM/E9//PEB8KTCWTKIePQAAAAAAAAAAkS7R5+vCTEB+tdFB7oNcQB475pa/FGVA2sy8CzGLa0CT1sRTfsRwQAPXxwTyeXNACK0hHhbadUC/L4LTgtp3QNrSG5tzcnlAY0Q8le2aekAi9Dcf3k57QNvMvAsxi3tAI/Q3H95Oe0BkRDyV7Zp6QNvSG5tzcnlAvy+C04Lad0AJrSEeFtp1QATXxwTyeXNAldbEU37EcEDgzLwLMYtrQB875pa/FGVAh7XRQe6DXECrLtHn68JMQBaV1fvpYS49AAAAAAAAAAAHsqIRgUZVQGY8gpjoF2VATulpzyswb0DrJWdB6V90QFe20rV9znhA7LUgjGnQfECnA1h/DyqAQKzfa48cpYFA6FmMod/SgkAQ6jDsLq6DQH/Vw85JM4RA7CVnQelfhECA1cPOSTOEQBDqMOwuroNA6VmMod/SgkCs32uPHKWBQKkDWH8PKoBA7bUgjGnQfEBbttK1fc54QPAlZ0HpX3RAUOlpzyswb0BtPIKY6BdlQBqyohGBRlVAXsZZjnt5Nj0AAAAAAAAAAC7O/Lsd0ltAJFQ5ei+Va0AwjnI7P2R0QFZ4jdaUpHpAOkRsXBs4gEDUcqcd4daCQOR+ioshI4VAos91+MsSh0CpGApDZZ2IQN3HNfwsvIlAU4sl+jpqikBXeI3WlKSKQFSLJfo6aopA3sc1/Cy8iUCqGApDZZ2IQKPPdfjLEodA5X6KiyEjhUDVcqcd4daCQD1EbFwbOIBAXHiN1pSkekAyjnI7P2R0QC1UOXovlWtAR878ux3SW0CRShhIiWM9PQAAAAAAAAAAsAEKP2T0YECme5NJQs9wQOOHAC+x2nhAFo9jAqE8gEAFKZhuysSDQElgGmxc9oZA0+Jf1VnDiUAOmpcVfh+MQD9jIuVyAI5AHB7kkP1dj0B8NgyDERmQQBePYwKhPJBAfDYMgxEZkEAdHuSQ/V2PQEBjIuVyAI5AD5qXFX4fjEDV4l/VWcOJQEtgGmxc9oZACCmYbsrEg0Aaj2MCoTyAQOWHAC+x2nhAq3uTSULPcEDAAQo/ZPRgQAbh1twG6UE9AAAAAAAAAABIW7O7dLhjQFLHEwhEjXNAp+/2eanofECV0/gnt+KCQJdKV2dg/oZArQNS9lG1ikBAkKd6RveNQLde54T8WpBAiTPK1LFykUCr8y39+T2SQDZhKZJauZJAltP4J7fikkA2YSmSWrmSQKvzLf35PZJAijPK1LFykUC3XueE/FqQQEKQp3pG941ArgNS9lG1ikCbSldnYP6GQJrT+Ce34oJAqe/2eanofEBYxxMIRI1zQFpbs7t0uGNAJsV03f/URD0AAAAAAAAAACpxXfifKWZATs+RExb5dUArQNN+jj6AQEGnmYNqOYVAwF5T6k7XiUAn6Am9AgSOQFbd8Gie1pBAuQnX8XlhkkB7i/xn0puTQOdnaeNGgJRAdk+TtO4KlUBCp5mDajmVQHdPk7TuCpVA6Gdp40aAlEB8i/xn0puTQLoJ1/F5YZJAV93waJ7WkEAp6Am9AgSOQMReU+pO14lARqeZg2o5hUAsQNN+jj6AQFXPkRMW+XVAPnFd+J8pZkDGmQeJZ2lHPQAAAAAAAAAABK83DaI9aEBEpaf/igh4QMdyw7R/xIFAHjf0b+Y2h0BgTarknUOMQIe/lNZDapBATXyo1tFqkkCSa+/WsxqUQC5yTxiGcpVA2Kh+lmZslkAU4LbMDgSXQB839G/mNpdAFOC2zA4El0DZqH6WZmyWQC5yTxiGcpVAk2vv1rMalEBPfKjW0WqSQIi/lNZDapBAZE2q5J1DjEAjN/Rv5jaHQMhyw7R/xIFAS6Wn/4oIeEAZrzcNoj1oQNzSPNplm0k9AAAAAAAAAACPQK2svutpQCmEg6D5snlA2uQ7PsH/gkDzh5JNzdKIQFTYzdwdOY5AjOowCIaNkUDviC12mrGTQHlbCIFrf5VAATHDSxLvlkCWy1FwRPqXQJfehI1vnJhA9IeSTc3SmECY3oSNb5yYQJfLUXBE+pdAATHDSxLvlkB6WwiBa3+VQPCILXaasZNAjeowCIaNkUBZ2M3cHTmOQPmHkk3N0ohA2+Q7PsH/gkAxhIOg+bJ5QKZAray+62lAoZ1XeMBhSz0AAAAAAAAAAFs8udvlLGtAxyzQcmHxekA+EHjsJeuDQGFgMa1bBopA1nYRw5Kvj0BfTjSk/2aSQPm+zaOapZRA8B6+eMWJlkCE5kRfNwuYQJBZ6ABYI5lAisPEV1zNmUBiYDGtWwaaQIvDxFdczZlAkVnoAFgjmUCF5kRfNwuYQPEevnjFiZZA+r7No5qllEBfTjSk/2aSQNt2EcOSr49AZ2AxrVsGikA/EHjsJeuDQM8s0HJh8XpAczy52+Usa0Dgc1iBAbVMPQAAAAAAAAAAkEDFodH7a0Dy6o4KiL57QHg/60TQgoRAiuHbvYTMikDax3ZHa1CQQMVU4oEe85JALSWOttBClUC4IXghYjWXQD/NxupKwphAgQ+GhMDimUCWZ+xp05GaQIvh272EzJpAl2fsadORmkCCD4aEwOKZQEDNxupKwphAuSF4IWI1l0AvJY620EKVQMZU4oEe85JA3Md2R2tQkECQ4du9hMyKQHo/60TQgoRA++qOCoi+e0CqQMWh0ftrQLmsNOaWj009AAAAAAAAAAApW0gzHFVsQJhqKg0PF3xAhuiJwELEhEBjL0qHByKLQNjRu4t5hJBAQfmUoZUvk0BrJ4vXp4aVQN9Wthtwf5dA0DL0XUsRmUDnk99kWTWaQBzGAOya5ppAZC9Khwcim0AdxgDsmuaaQOiT32RZNZpA0TL0XUsRmUDgVrYbcH+XQG0ni9enhpVAQvmUoZUvk0Db0buLeYSQQGkvSocHIotAiOiJwELEhEChaioNDxd8QEJbSDMcVWxA7lNL1entTT0AAAAAAAAAAEHm+DlON2xA9BZhWoL5e0AwmaRDaq6EQEO3R5d8BYtAB381XRlzkEDszJnYZhuTQK9r0dsCcJVAYUJeHbhml0B3iBCj7PaYQKkSMm/HGZpAoMsHf07KmkBEt0eXfAWbQKDLB39OyppAqhIyb8cZmkB4iBCj7PaYQGJCXh24ZpdAsGvR2wJwlUDtzJnYZhuTQAp/NV0Zc5BASbdHl3wFi0AymaRDaq6EQP0WYVqC+XtAWub4OU43bEB5ganQbc5NPQAAAAAAAAAAy3uI/uSia0C4ooEoXmZ7QHqmU6KiQYRAAuei6Ft3ikCcGeHFkxyQQBmqlv3mtpJAsqoS80D/lEBVWj0OouuWQCu645Kdc5hAxxK3h36QmUDZ7AoXZT2aQAPnouhbd5pA2uwKF2U9mkDHEreHfpCZQCy645Kdc5hAVlo9DqLrlkC0qhLzQP+UQBmqlv3mtpJAnhnhxZMckEAI56LoW3eKQHymU6KiQYRAwaKBKF5me0Dke4j+5KJrQHUaszCnMU09AAAAAAAAAAD++QFaUJpqQGxvSvoMYHpA1Jd2HrV/g0AWF9fq+nmJQNClrO+oBI9AXRbrg7wDkkAFxYcXPDaUQMRpRFMzEJZARATIIoaJl0A4sn3Cv5uYQNKeEQcvQplAFxfX6vp5mUDTnhEHL0KZQDmyfcK/m5hARQTIIoaJl0DFaURTMxCWQAbFhxc8NpRAXhbrg7wDkkDVpazvqASPQBwX1+r6eYlA1pd2HrV/g0B0b0r6DGB6QBb6AVpQmmpApijS9ygaTD0AAAAAAAAAAKZNb3foIWlA7Jj+dt3qeEDK3p3l0GuCQJyjuLKCEYhAKDP1qMdNjUAwYemL2ASRQB36kUVBGJNA8OqnTwbYlEDS439UfjyWQGsHqemPP5dA+YhJR8zcl0Cdo7iyghGYQPqISUfM3JdAawep6Y8/l0DT439UfjyWQPDqp08G2JRAH/qRRUEYk0AxYemL2ASRQCwz9ajHTY1AoqO4soIRiEDL3p3l0GuCQPOY/nbd6nhAvU1vd+ghaUDbQk8AioxKPQAAAAAAAAAA5BnWkNs/Z0CxbmFP8Ax3QLRfbq59CoFAUppffd5DhkAmrw6OuBuLQJX+HwrVfI9AnzXSmwKqkUD5dJs/O0iTQNz47A3+kZRA91romKaBlUBthz4eGxOWQFOaX33eQ5ZAboc+HhsTlkD3WuiYpoGVQNz47A3+kZRA+XSbPztIk0ChNdKbAqqRQJb+HwrVfI9AKq8Ojrgbi0BXml993kOGQLVfbq59CoFAuG5hT/AMd0D5GdaQ2z9nQLJnz7FRj0g9AAAAAAAAAAC4t070E/xkQEe2s3seznRAzzKFWxHDfkDAd9TOohiEQI1URz62d4hAVwh9LJ1rjEBE4xE8B+OPQD5iUqxiZ5FAmciSHAaRkkC9cSs1VmmTQPv2BHaf7JNAwXfUzqIYlED79gR2n+yTQL5xKzVWaZNAmsiSHAaRkkA/YlKsYmeRQEfjETwH449AWAh9LJ1rjECRVEc+tneIQMV31M6iGIRA0jKFWxHDfkBOtrN7Hs50QMu3TvQT/GRAJWCOj9wqRj0AAAAAAAAAACa9ar4WYGJAPbn4Ptg3ckA4ASpn2O96QAl+FJXtmIFAgY94VtpshUCd9LMr7uKIQJAdb9v/64tA5YCwp8N6jkBt5oTFAkKQQJ4omCVt/5BAD8gGRWNykUAKfhSV7ZiRQA/IBkVjcpFAniiYJW3/kEBt5oTFAkKQQOaAsKfDeo5Akh1v2//ri0Ce9LMr7uKIQISPeFbabIVADX4Ule2YgUA6ASpn2O96QEO5+D7YN3JAN71qvhZgYkBClrISOWlDPQAAAAAAAAAAsMWNq7ftXkDjTVn0+qluQPLjbKxkq3ZAX0K7qn+efUCgiUXI7geCQD68K+Gi8YRAQT2LxZl/h0BfnH7xoqaJQPf1/LpQXYtAtw9CniGcjECZ+3seoV2NQGBCu6p/no1Amvt7HqFdjUC4D0KeIZyMQPj1/LpQXYtAYJx+8aKmiUBDPYvFmX+HQD+8K+Gi8YRAoolFyO4HgkBmQruqf559QPTjbKxkq3ZA7E1Z9PqpbkDMxY2rt+1eQCA1eGT9VUA9AAAAAAAAAAD6wP2fP5lYQM70ZOxfY2hAdgc4TqYHckAW6LIJo453QErOFDBwrnxAx8+U4U2ogEA+He8HbbCCQAzRTkqvZoRAXdXu+5TDhUD6DK7cJcGGQOFqJj8LW4dAF+iyCaOOh0DhaiY/C1uHQPsMrtwlwYZAXtXu+5TDhUAN0U5Kr2aEQD8d7wdtsIJAx8+U4U2ogEBPzhQwcK58QBvosgmjjndAeAc4TqYHckDV9GTsX2NoQBDB/Z8/mVhAQo/KUy38OT0AAAAAAAAAAN0FowNh3VFAc2Q+yUC2YUB/g0b9OzBqQO6TgYzAG3FAOXTqxnLUdEBonlWm5zF4QGNt18lhJXtAhO1lB/ShfUDaLsAKupx/QFFoegWEhoBA/NrGYkj2gEDvk4GMwBuBQP3axmJI9oBAUWh6BYSGgEDbLsAKupx/QIXtZQf0oX1AZW3XyWEle0BpnlWm5zF4QDx06sZy1HRA8pOBjMAbcUCBg0b9OzBqQHhkPslAtmFA7QWjA2HdUUAY9oJbJd8yPQAAAAAAAAAAlgCxStSsRUAYVAC3W31VQEXVXhAsxl9A8XYfbufBZEDFlYuzzEVpQLgRf8H+Wm1AN+Wqss13cED+RybT+flxQEoFATxoLXNA4p1/TtYMdEA0gN1dcZR0QPJ2H27nwXRANYDdXXGUdEDjnX9O1gx0QEoFATxoLXNA/0cm0/n5cUA45aqyzXdwQLkRf8H+Wm1AyZWLs8xFaUD2dh9u58FkQEfVXhAsxl9AH1QAt1t9VUCpALFK1KxFQNIV4jST5SY9AAAAAAAAAADqARvrJw8tQBkayU6DzzxAOltjGqBMRUDZfCjLMtRLQK46vezv8FBAcHOBqpGtU0Bn/QWxARRWQKGAXp+8GVhApF1prua1WUD2uTN+cuFaQEvo7vk/l1tA2nwoyzLUW0BM6O75P5dbQPe5M35y4VpApV1prua1WUCigF6fvBlYQGn9BbEBFFZAcXOBqpGtU0CwOr3s7/BQQN98KMsy1EtAPFtjGqBMRUAiGslOg888QAQCG+snDy1Abjan93GyDj0AAAAAAAAAgJQBG+snDy3AwxnJToPPPMD6WmMaoExFwIZ8KMsy1EvAezq97O/wUMA1c4Gqka1TwCX9BbEBFFbAWYBen7wZWMBYXWmu5rVZwKa5M35y4VrA+efu+T+XW8CHfCjLMtRbwPrn7vk/l1vAp7kzfnLhWsBYXWmu5rVZwFqAXp+8GVjAJ/0FsQEUVsA2c4Gqka1TwH46vezv8FDAjHwoyzLUS8D8WmMaoExFwMwZyU6DzzzArgEb6ycPLcATNqf3cbIOvQAAAAAAAACAgACxStSsRcADVAC3W31VwCTVXhAsxl/A3HYfbufBZMCslYuzzEVpwJoRf8H+Wm3AJuWqss13cMDsRybT+flxwDYFATxoLXPAzp1/TtYMdMAfgN1dcZR0wN12H27nwXTAIIDdXXGUdMDOnX9O1gx0wDcFATxoLXPA7Ucm0/n5ccAn5aqyzXdwwJsRf8H+Wm3AsJWLs8xFacDhdh9u58FkwCfVXhAsxl/ACVQAt1t9VcCTALFK1KxFwLsV4jST5Sa9AAAAAAAAAIDTBaMDYd1RwGlkPslAtmHAcING/TswasDkk4GMwBtxwC106sZy1HTAWp5VpucxeMBTbdfJYSV7wHPtZQf0oX3AyC7ACrqcf8BHaHoFhIaAwPPaxmJI9oDA5ZOBjMAbgcDz2sZiSPaAwEhoegWEhoDAyS7ACrqcf8B07WUH9KF9wFVt18lhJXvAW55VpucxeMAwdOrGctR0wOiTgYzAG3HAcoNG/TswasBuZD7JQLZhwOMFowNh3VHADfaCWyXfMr0AAAAAAAAAgPXA/Z8/mVjAyvRk7F9jaMBzBzhOpgdywBLosgmjjnfARc4UMHCufMDEz5ThTaiAwDsd7wdtsILACdFOSq9mhMBZ1e77lMOFwPYMrtwlwYbA3WomPwtbh8AT6LIJo46HwN1qJj8LW4fA9wyu3CXBhsBa1e77lMOFwAnRTkqvZoTAPB3vB22wgsDFz5ThTaiAwErOFDBwrnzAF+iyCaOOd8B1BzhOpgdywNH0ZOxfY2jAC8H9nz+ZWMA+j8pTLfw5vQAAAAAAAACAqMWNq7ftXsDaTVn0+qluwOzjbKxkq3bAV0K7qn+efcCbiUXI7geCwDm8K+Gi8YTAOz2LxZl/h8BYnH7xoqaJwPD1/LpQXYvArw9CniGcjMCR+3seoV2NwFhCu6p/no3Akvt7HqFdjcCwD0KeIZyMwPD1/LpQXYvAWZx+8aKmicA8PYvFmX+HwDq8K+Gi8YTAnYlFyO4HgsBeQruqf559wO7jbKxkq3bA5E1Z9PqpbsDExY2rt+1ewBs1eGT9VUC9AAAAAAAAAIAivWq+FmBiwDm5+D7YN3LAMgEqZ9jvesAFfhSV7ZiBwHyPeFbabIXAl/SzK+7iiMCJHW/b/+uLwN6AsKfDeo7AaeaExQJCkMCaKJglbf+QwAvIBkVjcpHABn4Ule2YkcALyAZFY3KRwJoomCVt/5DAauaExQJCkMDfgLCnw3qOwIwdb9v/64vAmPSzK+7iiMCAj3hW2myFwAl+FJXtmIHANAEqZ9jvesA/ufg+2DdywDK9ar4WYGLAPpayEjlpQ70AAAAAAAAAgLW3TvQT/GTARLazex7OdMDLMoVbEcN+wL131M6iGITAilRHPrZ3iMBTCH0snWuMwD/jETwH44/APGJSrGJnkcCWyJIcBpGSwLpxKzVWaZPA+PYEdp/sk8C+d9TOohiUwPj2BHaf7JPAu3ErNVZpk8CXyJIcBpGSwD1iUqxiZ5HAQuMRPAfjj8BUCH0snWuMwI1URz62d4jAwnfUzqIYhMDNMoVbEcN+wEu2s3seznTAyLdO9BP8ZMAiYI6P3CpGvQAAAAAAAACA4hnWkNs/Z8CvbmFP8Ax3wLJfbq59CoHAUJpffd5DhsAjrw6OuBuLwJL+HwrVfI/AnjXSmwKqkcD3dJs/O0iTwNr47A3+kZTA9VromKaBlcBrhz4eGxOWwFGaX33eQ5bAbIc+HhsTlsD1WuiYpoGVwNv47A3+kZTA93SbPztIk8CfNdKbAqqRwJP+HwrVfI/AJ68Ojrgbi8BVml993kOGwLRfbq59CoHAtm5hT/AMd8D3GdaQ2z9nwLBnz7FRj0i9AAAAAAAAAIClTW936CFpwOuY/nbd6njAyd6d5dBrgsCbo7iyghGIwCYz9ajHTY3AL2Hpi9gEkcAc+pFFQRiTwO/qp08G2JTA0eN/VH48lsBqB6npjz+XwPiISUfM3JfAnKO4soIRmMD5iElHzNyXwGsHqemPP5fA0uN/VH48lsDv6qdPBtiUwB76kUVBGJPAMGHpi9gEkcArM/Wox02NwKGjuLKCEYjAyt6d5dBrgsDymP523ep4wLxNb3foIWnA2kJPAIqMSr0AAAAAAAAAgP35AVpQmmrAa29K+gxgesDTl3YetX+DwBUX1+r6eYnAz6Ws76gEj8BcFuuDvAOSwATFhxc8NpTAxGlEUzMQlsBDBMgihomXwDeyfcK/m5jA0Z4RBy9CmcAWF9fq+nmZwNKeEQcvQpnAOLJ9wr+bmMBEBMgihomXwMRpRFMzEJbABcWHFzw2lMBdFuuDvAOSwNOlrO+oBI/AGxfX6vp5icDVl3YetX+DwHNvSvoMYHrAFfoBWlCaasCkKNL3KBpMvQAAAAAAAACAy3uI/uSia8C4ooEoXmZ7wHqmU6KiQYTAAuei6Ft3isCcGeHFkxyQwBmqlv3mtpLAsqoS80D/lMBVWj0OouuWwCu645Kdc5jAxxK3h36QmcDZ7AoXZT2awAPnouhbd5rA2uwKF2U9msDHEreHfpCZwCy645Kdc5jAVlo9DqLrlsC0qhLzQP+UwBmqlv3mtpLAnhnhxZMckMAI56LoW3eKwHymU6KiQYTAwaKBKF5me8Dke4j+5KJrwHUaszCnMU29AAAAAAAAAIBA5vg5TjdswPMWYVqC+XvAL5mkQ2quhMBCt0eXfAWLwAZ/NV0Zc5DA7MyZ2GYbk8Cua9HbAnCVwGBCXh24ZpfAdogQo+z2mMCoEjJvxxmawJ/LB39OyprAQ7dHl3wFm8Cfywd/TsqawKkSMm/HGZrAd4gQo+z2mMBhQl4duGaXwK9r0dsCcJXA7MyZ2GYbk8AJfzVdGXOQwEi3R5d8BYvAMZmkQ2quhMD8FmFagvl7wFnm+DlON2zAeIGp0G3OTb0AAAAAAAAAgClbSDMcVWzAmGoqDQ8XfMCG6InAQsSEwGMvSocHIovA2NG7i3mEkMBB+ZShlS+TwGsni9enhpXA31a2G3B/l8DQMvRdSxGZwOeT32RZNZrAHMYA7JrmmsBkL0qHByKbwB3GAOya5prA6JPfZFk1msDRMvRdSxGZwOBWthtwf5fAbSeL16eGlcBC+ZShlS+TwNvRu4t5hJDAaS9Khwcii8CI6InAQsSEwKFqKg0PF3zAQltIMxxVbMDuU0vV6e1NvQAAAAAAAACAkkDFodH7a8Dz6o4KiL57wHk/60TQgoTAi+HbvYTMisDax3ZHa1CQwMZU4oEe85LALiWOttBClcC5IXghYjWXwEDNxupKwpjAgg+GhMDimcCXZ+xp05GawIzh272EzJrAmGfsadORmsCDD4aEwOKZwEHNxupKwpjAuiF4IWI1l8AwJY620EKVwMZU4oEe85LA3cd2R2tQkMCR4du9hMyKwHo/60TQgoTA/OqOCoi+e8CrQMWh0ftrwLqsNOaWj029AAAAAAAAAIBdPLnb5SxrwMks0HJh8XrAPxB47CXrg8BjYDGtWwaKwNh2EcOSr4/AYE40pP9mksD6vs2jmqWUwPIevnjFiZbAhuZEXzcLmMCSWegAWCOZwIzDxFdczZnAZGAxrVsGmsCNw8RXXM2ZwJNZ6ABYI5nAh+ZEXzcLmMDzHr54xYmWwPy+zaOapZTAYU40pP9mksDddhHDkq+PwGlgMa1bBorAQRB47CXrg8DRLNByYfF6wHU8udvlLGvA4nNYgQG1TL0AAAAAAAAAgJJAray+62nALISDoPmyecDc5Ds+wf+CwPaHkk3N0ojAWNjN3B05jsCO6jAIho2RwPGILXaasZPAfFsIgWt/lcADMcNLEu+WwJnLUXBE+pfAmt6EjW+cmMD3h5JNzdKYwJvehI1vnJjAmstRcET6l8AEMcNLEu+WwH1bCIFrf5XA84gtdpqxk8CP6jAIho2RwFzYzdwdOY7A/IeSTc3SiMDe5Ds+wf+CwDSEg6D5snnAqUCtrL7racCknVd4wGFLvQAAAAAAAACAB683DaI9aMBHpaf/igh4wMlyw7R/xIHAITf0b+Y2h8BjTarknUOMwIm/lNZDapDAUHyo1tFqksCUa+/WsxqUwDByTxiGcpXA26h+lmZslsAX4LbMDgSXwCI39G/mNpfAF+C2zA4El8DcqH6WZmyWwDFyTxiGcpXAlWvv1rMalMBRfKjW0WqSwIq/lNZDapDAaE2q5J1DjMAmN/Rv5jaHwMtyw7R/xIHATqWn/4oIeMAcrzcNoj1owN/SPNplm0m9AAAAAAAAAIAqcV34nylmwE7PkRMW+XXAK0DTfo4+gMBBp5mDajmFwMBeU+pO14nAJ+gJvQIEjsBW3fBontaQwLkJ1/F5YZLAe4v8Z9Kbk8DnZ2njRoCUwHZPk7TuCpXAQqeZg2o5lcB3T5O07gqVwOhnaeNGgJTAfIv8Z9Kbk8C6CdfxeWGSwFfd8Gie1pDAKegJvQIEjsDEXlPqTteJwEanmYNqOYXALEDTfo4+gMBVz5ETFvl1wD5xXfifKWbAxpkHiWdpR70AAAAAAAAAgE1bs7t0uGPAVscTCESNc8Ct7/Z5qeh8wJnT+Ce34oLAnEpXZ2D+hsCyA1L2UbWKwEaQp3pG943Aul7nhPxakMCNM8rUsXKRwK/zLf35PZLAOmEpklq5ksCa0/gnt+KSwDphKZJauZLAr/Mt/fk9ksCNM8rUsXKRwLte54T8WpDASZCnekb3jcC0A1L2UbWKwKBKV2dg/obAntP4J7figsCv7/Z5qeh8wFzHEwhEjXPAXluzu3S4Y8AqxXTd/9REvQAAAAAAAACAtAEKP2T0YMCpe5NJQs9wwOiHAC+x2njAGY9jAqE8gMAJKZhuysSDwE5gGmxc9obA1+Jf1VnDicATmpcVfh+MwERjIuVyAI7AIh7kkP1dj8B/NgyDERmQwBqPYwKhPJDAfzYMgxEZkMAjHuSQ/V2PwEVjIuVyAI7AFZqXFX4fjMDZ4l/VWcOJwE9gGmxc9obADCmYbsrEg8Adj2MCoTyAwOqHAC+x2njArnuTSULPcMDDAQo/ZPRgwAnh1twG6UG9AAAAAAAAAIA6zvy7HdJbwDFUOXovlWvAOo5yOz9kdMBieI3WlKR6wEJEbFwbOIDA3HKnHeHWgsDtfoqLISOFwK3PdfjLEofAtBgKQ2WdiMDpxzX8LLyJwF+LJfo6aorAY3iN1pSkisBgiyX6OmqKwOnHNfwsvInAtRgKQ2WdiMCuz3X4yxKHwO9+ioshI4XA3XKnHeHWgsBERGxcGziAwGh4jdaUpHrAO45yOz9kdMA5VDl6L5VrwFPO/Lsd0lvAnkoYSIljPb0AAAAAAAAAgA6yohGBRlXAbjyCmOgXZcBY6WnPKzBvwPIlZ0HpX3TAX7bStX3OeMD2tSCMadB8wK0DWH8PKoDAst9rjxylgcDvWYyh39KCwBbqMOwuroPAhtXDzkkzhMDzJWdB6V+EwIfVw85JM4TAF+ow7C6ug8DvWYyh39KCwLLfa48cpYHArgNYfw8qgMD3tSCMadB8wGO20rV9znjA9yVnQelfdMBb6WnPKzBvwHQ8gpjoF2XAIbKiEYFGVcBlxlmOe3k2vQAAAAAAAACAsC7R5+vCTMCdtdFB7oNcwDU75pa/FGXA+My8CzGLa8Cl1sRTfsRwwBnXxwTyeXPAH60hHhbadcDZL4LTgtp3wPXSG5tzcnnAgEQ8le2aesBA9Dcf3k57wPnMvAsxi3vAQfQ3H95Oe8CBRDyV7Zp6wPbSG5tzcnnA2S+C04Lad8AhrSEeFtp1wBnXxwTyeXPAqNbEU37EcMD+zLwLMYtrwDY75pa/FGXAprXRQe6DXMDKLtHn68JMwDeV1fvpYS69AAAAAAAAAICfwz8T3/88wInygfBbwEzAIrxWImxBVcD7npCcj8VbwPKT7sgG6GDALXsbAjijY8A4riXaZAhmwJf0vHcPDWjArKaNvGCoacDP9zv+TtNqwAPyGdq8iGvA/J6QnI/Fa8AE8hnavIhrwND3O/5O02rAraaNvGCoacCY9Lx3Dw1owDquJdpkCGbALXsbAjijY8D0k+7IBuhgwAGfkJyPxVvAJLxWImxBVcCR8oHwW8BMwLnDPxPf/zzApykwlkyiHr0AAAAAAAAAgBWad3rBRC+9S2SHI0YAP72N1KFpMOtGvVf+wxza8U29PeAKzqw6Ur3md2VwkyxVvWc22bK6wVe9IpVElNLuWb2qKSjiUqpbvflQR/mk7Fy9hMrbAkWwXb1Y/sMc2vFdvYXK2wJFsF29+lBH+aTsXL2rKSjiUqpbvSOVRJTS7lm9aTbZsrrBV73nd2VwkyxVvUDgCs6sOlK9Xv7DHNrxTb2P1KFpMOtGvVVkhyNGAD+9MZp3esFEL73j2rw59oMQug==",
          "dtype": "f8",
          "shape": "50, 25"
         },
         "z": {
          "bdata": "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",
          "dtype": "f8",
          "shape": "50, 25"
         }
        },
        {
         "marker": {
          "color": "red",
          "size": 4
         },
         "mode": "markers",
         "name": "Satellites",
         "type": "scatter3d",
         "x": {
          "bdata": "zczMzMwyrUDKzMzMzDKdwNTMzMzMMp3A",
          "dtype": "f8"
         },
         "y": {
          "bdata": "AAAAAAAAAADbREffXUmpQNlER99dSanA",
          "dtype": "f8"
         },
         "z": {
          "bdata": "AAAAAAAAAAAAAAAAAAAAAAAAAAAAAAAA",
          "dtype": "f8"
         }
        },
        {
         "line": {
          "color": "blue",
          "width": 2
         },
         "mode": "lines",
         "name": "Coverage 1",
         "showlegend": true,
         "type": "scatter3d",
         "x": {
          "bdata": "csucT009icByy5xPTT2JwHLLnE9NPYnAcsucT009icByy5xPTT2JwHLLnE9NPYnAcsucT009icByy5xPTT2JwHLLnE9NPYnAcsucT009icByy5xPTT2JwHLLnE9NPYnAcsucT009icByy5xPTT2JwHLLnE9NPYnAcsucT009icByy5xPTT2JwHLLnE9NPYnAcsucT009icByy5xPTT2JwHLLnE9NPYnAcsucT009icByy5xPTT2JwHLLnE9NPYnAcsucT009icByy5xPTT2JwHLLnE9NPYnAcsucT009icByy5xPTT2JwHLLnE9NPYnAcsucT009icByy5xPTT2JwHLLnE9NPYnAcsucT009icByy5xPTT2JwHLLnE9NPYnAcsucT009icByy5xPTT2JwHLLnE9NPYnAcsucT009icByy5xPTT2JwHLLnE9NPYnAcsucT009icByy5xPTT2JwHLLnE9NPYnAcsucT009icByy5xPTT2JwHLLnE9NPYnAcsucT009icByy5xPTT2JwHLLnE9NPYnAcsucT009icByy5xPTT2JwHLLnE9NPYnAcsucT009icByy5xPTT2JwHLLnE9NPYnAcsucT009icByy5xPTT2JwHLLnE9NPYnAcsucT009icByy5xPTT2JwHLLnE9NPYnAcsucT009icByy5xPTT2JwHLLnE9NPYnAcsucT009icByy5xPTT2JwHLLnE9NPYnAcsucT009icByy5xPTT2JwHLLnE9NPYnAcsucT009icByy5xPTT2JwHLLnE9NPYnAcsucT009icByy5xPTT2JwHLLnE9NPYnAcsucT009icByy5xPTT2JwHLLnE9NPYnAcsucT009icByy5xPTT2JwHLLnE9NPYnAcsucT009icByy5xPTT2JwHLLnE9NPYnAcsucT009icByy5xPTT2JwHLLnE9NPYnAcsucT009icByy5xPTT2JwHLLnE9NPYnAcsucT009icByy5xPTT2JwHLLnE9NPYnAcsucT009icByy5xPTT2JwHLLnE9NPYnAcsucT009icA=",
          "dtype": "f8"
         },
         "y": {
          "bdata": "AAAAAAAAAAAR4aA8/mNYwBkf5ANsV2jATfKztuAxcsBEE4D6SSV4wMid1m/P/33AtPa0MLTdgcD/EDj9FamEwGpVDK8rX4fARSHvyyn9icDvFkuvXYCMwMQbJlIw5o7AkepLexSWkMCmDgTa96eRwLaLyvCnp5LAd7YRLh2Uk8DZWeDSY2yUwGXtE+6cL5XAU84wQv/clcCzldMU2HOWwJO17eaL85bA0HIPFZdbl8DpABpfjquXwOnezVYf45fA537DtBACmMDOoHaTQgiYwFqDJ5Cu9ZfAkAZw0WfKl8Cy9oXzmoaXwA3ZPtqNKpfAz6EEaZ+2lsCBlgUhRyuWwB4xBKYUiZXA2v9FKq/QlMANIzrC1AKUwJ4SiaBZIJPAPKVXOycqksA81J5bOyGRwEBPkBenBpDAbRYrchu3jcC39RYjR0KLwDHs4HdZsYjAi9yXnfcGhsDiplD+4EWDwA/mDWzscIDAAiEOZwoWe8C4m6YzUC51wPBPSCCBYW7A0774oBBHYsCDcXJmI2dIwK5xcmYjZ0hA3r74oBBHYkD6T0gggWFuQLGbpjNQLnVABiEOZwoWe0AL5g1s7HCAQOSmUP7gRYNAh9yXnfcGhkAy7OB3WbGIQLT1FiNHQotAbhYrchu3jUA/T5AXpwaQQD3Unls7IZFAPKVXOycqkkCeEomgWSCTQAwjOsLUApRA2/9FKq/QlEAfMQSmFImVQIGWBSFHK5ZAz6EEaZ+2lkAO2T7ajSqXQLL2hfOahpdAkAZw0WfKl0BZgyeQrvWXQM6gdpNCCJhA537DtBACmEDp3s1WH+OXQOkAGl+Oq5dA0HIPFZdbl0CTte3mi/OWQLSV0xTYc5ZAUs4wQv/clUBk7RPunC+VQNlZ4NJjbJRAeLYRLh2Uk0C0i8rwp6eSQKYOBNr3p5FAkepLexSWkEDJGyZSMOaOQOwWS69dgIxARSHvyyn9iUBsVQyvK1+HQAIROP0VqYRAsPa0MLTdgUDIndZvz/99QEgTgPpJJXhAQPKztuAxckAOH+QDbFdoQBPhoDz+Y1hAVftqhDCDWj0=",
          "dtype": "f8"
         },
         "z": {
          "bdata": "e0bi2AgJmMBKOrCBpfyXwJw9MEGI15fAwO96WdeZl8APcDti0kOXwKvuIQfS1ZbA9ld8rEdQlsCAU1P6vLOVwGUThE7TAJXANjppFkM4lMDXTr4Q21qTwPu2gXh/aZLA0OewGSllkcD9UNFQ5E6QwDfBnOyfT47A55GTbTjii8BTqR2zEliJwFMA2OzMs4bARVeOOCD4g8DH7aDT3SeBwBKdGGfYi3zAMyMjEYiqdsCHByhb2rFwwJ0BUiHuT2XAKkcX6l5MUsCQ7KG67Gc4QOj3qCcLel5AFQhcTlhda0DscQLjurBzQK0T34Z9nnlAImF6iNdxf0CGZEbLY5KCQDT3weS2WIVAf0bi2AgJiEBgfZ4elKCKQLUWGresHI1A76647sJ6j0Alq4MAM9yQQC9SYU6j6ZFA9dawopzkkkACxNhHHMyTQLSLmZszn5RAqa4KBQldlUAKj+jU2ASWQNu4Sw/2lZZAnLD5HcsPl0BAeJdq2nGXQH/XHuC+u5dAlvQQUyztl0DU1PrP7wWYQNTU+s/vBZhAlvQQUyztl0B/1x7gvruXQEB4l2racZdAnLD5HcsPl0DcuEsP9pWWQAqP6NTYBJZAqa4KBQldlUCzi5mbM5+UQAPE2EcczJNA9dawopzkkkAwUmFOo+mRQCSrgwAz3JBA8K647sJ6j0CyFhq3rByNQGN9nh6UoIpAdkbi2AgJiEAy98HktliFQIZkRstjkoJAKGF6iNdxf0CjE9+GfZ55QOdxAuO6sHNAFQhcTlhda0AD+KgnC3peQNrrobrsZzhAQEcX6l5MUsCRAVIh7k9lwHsHKFvasXDAOCMjEYiqdsAQnRhn2It8wMTtoNPdJ4HASleOOCD4g8BWANjszLOGwFOpHbMSWInA5JGTbTjii8A9wZzsn0+OwP5Q0VDkTpDA0OewGSllkcD5toF4f2mSwNhOvhDbWpPANjppFkM4lMBlE4RO0wCVwH9TU/q8s5XA91d8rEdQlsCr7iEH0tWWwA9wO2LSQ5fAwe96WdeZl8CcPTBBiNeXwEo6sIGl/JfAe0bi2AgJmMA=",
          "dtype": "f8"
         }
        },
        {
         "line": {
          "color": "blue",
          "width": 2
         },
         "mode": "lines",
         "showlegend": false,
         "type": "scatter3d",
         "x": {
          "bdata": "b8ucT009eUBDRcAVcPVzQIQykscIZm1AH5pCSuz2YkDr+xNImFBRQFb/k3R7syfA4IG3iFfSVsA6Oz+2UxdlwCt5ggO1e27Aynq7l1DGc8AJ04jiXyB4wA2qjvyLR3zAsxN0esYbgMDPOY/cKfaBwKzoICIHsYPAgrqJx5VKhcBIb5ieL8GGwMlDu4FSE4jA1FcM4qE/icBk0p4u6ESKwIdjmhMYIovAtTLcj03Wi8AhCv/fzmCMwCl42D0NwYzAKYOlc6X2jMBkOU9CYAGNwM6xXZoy4YzANMlepz2WjMAk27StziCMwH618LpegYvAgeEIKZK4isA+4+70N8eJwEMTMelIrojAAgSFneZuh8Au0EJMWgqGwCcKBX8TgoTAUSLLk6bXgsBDzyQcywyBwNxKKDC0Rn7Ag+byHJg6esCS+v4Jbvl1wL5qQLOYh3HAMoDl/1nTacCtoxaT2khgwDz2lJ4j5knAbdbITPKDPEDi3xmGw5VbQPrvQW0WK2hA0pCXGjVTcUBvIleJB5l2QHN04hWT4XtACANRwrKTgEBzT0y0hzKDQG+P2d6UyoVAvYQ2vS1ZiEDQGoaJr9uKQFx0YvSDT41AeSuWzyOyj0BngJ7UjACRQFskTioCHZJAWB8Lr0wtk0BteNizUzCUQFrN4DUMJZVA4Paz8XkKlkDL6lBnsN+WQM7N783To5dAuueQ9hlWmEBa72Ycy/WYQFbXRaJCgplAd9ZSvO/6mUB3wEYFVl+aQEnTqP4Nr5pAUcp9e8XpmkCdPv30Pw+bQGkC9shWH5tASyehYfkZm0DMobpGLf+aQMjqzRcOz5pAEn+8b82JmkB7l5uxsi+aQOnOHb8awZlAoJHUmHc+mUCbB6zoT6iYQFudGnc+/5dA+UKTi/FDl0AL2t44KneWQJ4CFpa7mZVAkG8I5YmslEA8EPKmibCTQHmacKC+ppJAakS9zTqQkUDetD5IHW6QQECaLD0ig45Ap7uzQJgXjEBsG289G5yJQPRLmkY6E4dA4SQMPZJ/hEDLPrgdy+OBQJtReYkqhX5AdcucT009eUA=",
          "dtype": "f8"
         },
         "y": {
          "bdata": "gezZ06bbhcCR+qO35mGHwGRwVlSU5ojAE+mGAR9oisBR8XlS+eSLwPKTz6+aW43A22c07IDKjsCA+jrpGBiQwJoLsFWexZDAkb7o3B1tkcD7u7/V6g2SwDF9dn5fp5LAiOuSp904k8CT/e5Wz8GTwBo8UmKnQZTAe9H1AOK3lMAsI11TBSSVwPLs9uChhZXAaF0FC1PclcAZwVZ0vyeWwAjRY12ZZ5bAp6909J6blsC09nmZmsOWwLTlUxVj35bAs7VOxNvulsCmRqiz9PGWwOy3ALKq6JbAh/mkUgfTlsCY8a/jILGWwMZiDFcag5bAJ0dvHiNJlsCAwW/6dgOWwM4O77xdspXALPYP/ypWlcDGBwrLPe+UwI5/MToAfpTA3siYB+cClMBeYLwXcX6TwOAdtfUm8ZLA3Lt3RppbksCus7IyZb6RwEwx5ccpGpHAYu1SUZFvkMDxPwJTl36PwIjf4AkdFI7AwXSdbSmhjMBtk8PgOieLwH724vfWp4nAWwT554gkiMANgA3v356GwPNYprhtGIXApdS6v8SSg8CC4tCvdg+CwJVF8MYSkIDAgMgsdEgsfsD38qU7YUZ7wB8yY6lscXjAfPwbClawdcDS7NIv9AVzwFHjnIQGdXDALYURa2QAbMANdSbx/lNnwBZh7OCt6WLAMDoSxPyLXcAgz4aaadpVwGGX/BkhjU3Aeco+mXqvQMAo2W51i6QkwI9/6koT6CNAe6lWpRJfO0CxyE5mcO5EQO+iwPpBr0pA1KBh2Q/sTkCztmziPdBQQFui5fzdZFFAIJNMB08zUUA1k58XxDtQQGpGAbR4/kxA32RYEwT/R0D8kDwxUX5BQBQmNR8oBjNAzfkcbuWGxT/c47+4PIE1wKAqmQ8w9EbAUbBBLk08UsByBnsY959ZwHB3V+e7zmDAxwc4YkkWZcB3ehurOqJpwDGE0fDfbW7Av7fE2yO6ccCYg6f4IVh0wAHIe6o3DnfAU+L+dpnZecAfisjvZbd8wF/Pc6qopH/A8e8spi5PgcCfaF1TudCCwHDeD/BmVYTAf+zZ06bbhcA=",
          "dtype": "f8"
         },
         "z": {
          "bdata": "e0bi2AgJmEBKOrCBpfyXQJw9MEGI15dAwO96WdeZl0APcDti0kOXQKvuIQfS1ZZA9ld8rEdQlkCAU1P6vLOVQGUThE7TAJVANjppFkM4lEDXTr4Q21qTQPu2gXh/aZJA0OewGSllkUD9UNFQ5E6QQDfBnOyfT45A55GTbTjii0BTqR2zEliJQFMA2OzMs4ZARVeOOCD4g0DH7aDT3SeBQBKdGGfYi3xAMyMjEYiqdkCHByhb2rFwQJ0BUiHuT2VAKkcX6l5MUkCQ7KG67Gc4wOj3qCcLel7AFQhcTlhda8DscQLjurBzwK0T34Z9nnnAImF6iNdxf8CGZEbLY5KCwDT3weS2WIXAf0bi2AgJiMBgfZ4elKCKwLUWGresHI3A76647sJ6j8Alq4MAM9yQwC9SYU6j6ZHA9dawopzkksACxNhHHMyTwLSLmZszn5TAqa4KBQldlcAKj+jU2ASWwNu4Sw/2lZbAnLD5HcsPl8BAeJdq2nGXwH/XHuC+u5fAlvQQUyztl8DU1PrP7wWYwNTU+s/vBZjAlvQQUyztl8B/1x7gvruXwEB4l2racZfAnLD5HcsPl8DcuEsP9pWWwAqP6NTYBJbAqa4KBQldlcCzi5mbM5+UwAPE2EcczJPA9dawopzkksAwUmFOo+mRwCSrgwAz3JDA8K647sJ6j8CyFhq3rByNwGN9nh6UoIrAdkbi2AgJiMAy98HktliFwIZkRstjkoLAKGF6iNdxf8CjE9+GfZ55wOdxAuO6sHPAFQhcTlhda8AD+KgnC3pewNrrobrsZzjAQEcX6l5MUkCRAVIh7k9lQHsHKFvasXBAOCMjEYiqdkAQnRhn2It8QMTtoNPdJ4FASleOOCD4g0BWANjszLOGQFOpHbMSWIlA5JGTbTjii0A9wZzsn0+OQP5Q0VDkTpBA0OewGSllkUD5toF4f2mSQNhOvhDbWpNANjppFkM4lEBlE4RO0wCVQH9TU/q8s5VA91d8rEdQlkCr7iEH0tWWQA9wO2LSQ5dAwe96WdeZl0CcPTBBiNeXQEo6sIGl/JdAe0bi2AgJmEA=",
          "dtype": "f8"
         }
        },
        {
         "line": {
          "color": "blue",
          "width": 2
         },
         "mode": "lines",
         "showlegend": false,
         "type": "scatter3d",
         "x": {
          "bdata": "d8ucT009eUBNRcAVcPVzQJUykscIZm1AM5pCSuz2YkAU/BNImFBRQNr9k3R7syfAt4G3iFfSVsAiOz+2UxdlwBd5ggO1e27Avnq7l1DGc8D90ojiXyB4wPypjvyLR3zArBN0esYbgMDHOY/cKfaBwKToICIHsYPAe7qJx5VKhcA/b5ieL8GGwMBDu4FSE4jAy1cM4qE/icBc0p4u6ESKwH9jmhMYIovArjLcj03Wi8AZCv/fzmCMwCF42D0NwYzAIIOlc6X2jMBbOU9CYAGNwMWxXZoy4YzALclepz2WjMAc27StziCMwHa18LpegYvAeeEIKZK4isA14+70N8eJwDwTMelIrojA+gOFneZuh8Ao0EJMWgqGwB4KBX8TgoTASiLLk6bXgsA9zyQcywyBwM5KKDC0Rn7AdubyHJg6esCE+v4Jbvl1wLJqQLOYh3HAG4Dl/1nTacCZoxaT2khgwOv1lJ4j5knAENfITPKDPEAL4BmGw5VbQA7wQW0WK2hA25CXGjVTcUB3IleJB5l2QHx04hWT4XtADQNRwrKTgEB2T0y0hzKDQHSP2d6UyoVAwIQ2vS1ZiEDTGoaJr9uKQF90YvSDT41AfCuWzyOyj0BpgJ7UjACRQFwkTioCHZJAWh8Lr0wtk0BveNizUzCUQFvN4DUMJZVA4faz8XkKlkDM6lBnsN+WQM/N783To5dAu+eQ9hlWmEBa72Ycy/WYQFfXRaJCgplAeNZSvO/6mUB4wEYFVl+aQErTqP4Nr5pAU8p9e8XpmkCePv30Pw+bQGoC9shWH5tATCehYfkZm0DNobpGLf+aQMnqzRcOz5pAE3+8b82JmkB8l5uxsi+aQOvOHb8awZlAoZHUmHc+mUCbB6zoT6iYQFydGnc+/5dA+kKTi/FDl0AN2t44KneWQKACFpa7mZVAkm8I5YmslEA9EPKmibCTQHqacKC+ppJAa0S9zTqQkUDftD5IHW6QQESaLD0ig45Aq7uzQJgXjEBvG289G5yJQPdLmkY6E4dA5iQMPZJ/hEDQPrgdy+OBQKJReYkqhX5AfcucT009eUA=",
          "dtype": "f8"
         },
         "y": {
          "bdata": "f+zZ06bbhUCQ+qO35mGHQGNwVlSU5ohAE+mGAR9oikBR8XlS+eSLQPSTz6+aW41A22c07IDKjkCB+jrpGBiQQJsLsFWexZBAkr7o3B1tkUD9u7/V6g2SQDN9dn5fp5JAiuuSp904k0CV/e5Wz8GTQB08UmKnQZRAftH1AOK3lEAuI11TBSSVQPXs9uChhZVAbF0FC1PclUAcwVZ0vyeWQAzRY12ZZ5ZAq6909J6blkC39nmZmsOWQLflUxVj35ZAt7VOxNvulkCqRqiz9PGWQO+3ALKq6JZAivmkUgfTlkCc8a/jILGWQMliDFcag5ZAKkdvHiNJlkCCwW/6dgOWQNEO77xdspVAL/YP/ypWlUDJBwrLPe+UQJF/MToAfpRA4MiYB+cClEBgYLwXcX6TQOEdtfUm8ZJA3bt3RppbkkCvs7IyZb6RQE0x5ccpGpFAY+1SUZFvkEDzPwJTl36PQIjf4AkdFI5AwXSdbSmhjEBtk8PgOieLQH724vfWp4lAWgT554gkiEALgA3v356GQPFYprhtGIVAo9S6v8SSg0B+4tCvdg+CQJFF8MYSkIBAeMgsdEgsfkDu8qU7YUZ7QBUyY6lscXhAcfwbClawdUDF7NIv9AVzQETjnIQGdXBADoURa2QAbEDxdCbx/lNnQPdg7OCt6WJA8zkSxPyLXUDjzoaaadpVQNmW/BkhjU1A5Mk+mXqvQEDT1m51i6QkQOSB6koT6CPAwapWpRJfO8BUyU5mcO5EwJKjwPpBr0rAd6Fh2Q/sTsAFt2ziPdBQwK2i5fzdZFHAcpNMB08zUcCHk58XxDtQwA1HAbR4/kzAgmVYEwT/R8CekTwxUX5BwD8nNR8oBjPAHI8dbuWGxb+x4r+4PIE1QAoqmQ8w9EZADbBBLk08UkA1BnsY959ZQFJ3V+e7zmBAqQc4YkkWZUBcehurOqJpQBOE0fDfbW5As7fE2yO6cUCMg6f4IVh0QPfHe6o3DndASuL+dpnZeUAWisjvZbd8QFbPc6qopH9A7u8spi5PgUCdaF1TudCCQG7eD/BmVYRAfezZ06bbhUA=",
          "dtype": "f8"
         },
         "z": {
          "bdata": "e0bi2AgJmMBKOrCBpfyXwJw9MEGI15fAwO96WdeZl8APcDti0kOXwKvuIQfS1ZbA9ld8rEdQlsCAU1P6vLOVwGUThE7TAJXANjppFkM4lMDXTr4Q21qTwPu2gXh/aZLA0OewGSllkcD9UNFQ5E6QwDfBnOyfT47A55GTbTjii8BTqR2zEliJwFMA2OzMs4bARVeOOCD4g8DH7aDT3SeBwBKdGGfYi3zAMyMjEYiqdsCHByhb2rFwwJ0BUiHuT2XAKkcX6l5MUsCQ7KG67Gc4QOj3qCcLel5AFQhcTlhda0DscQLjurBzQK0T34Z9nnlAImF6iNdxf0CGZEbLY5KCQDT3weS2WIVAf0bi2AgJiEBgfZ4elKCKQLUWGresHI1A76647sJ6j0Alq4MAM9yQQC9SYU6j6ZFA9dawopzkkkACxNhHHMyTQLSLmZszn5RAqa4KBQldlUAKj+jU2ASWQNu4Sw/2lZZAnLD5HcsPl0BAeJdq2nGXQH/XHuC+u5dAlvQQUyztl0DU1PrP7wWYQNTU+s/vBZhAlvQQUyztl0B/1x7gvruXQEB4l2racZdAnLD5HcsPl0DcuEsP9pWWQAqP6NTYBJZAqa4KBQldlUCzi5mbM5+UQAPE2EcczJNA9dawopzkkkAwUmFOo+mRQCSrgwAz3JBA8K647sJ6j0CyFhq3rByNQGN9nh6UoIpAdkbi2AgJiEAy98HktliFQIZkRstjkoJAKGF6iNdxf0CjE9+GfZ55QOdxAuO6sHNAFQhcTlhda0AD+KgnC3peQNrrobrsZzhAQEcX6l5MUsCRAVIh7k9lwHsHKFvasXDAOCMjEYiqdsAQnRhn2It8wMTtoNPdJ4HASleOOCD4g8BWANjszLOGwFOpHbMSWInA5JGTbTjii8A9wZzsn0+OwP5Q0VDkTpDA0OewGSllkcD5toF4f2mSwNhOvhDbWpPANjppFkM4lMBlE4RO0wCVwH9TU/q8s5XA91d8rEdQlsCr7iEH0tWWwA9wO2LSQ5fAwe96WdeZl8CcPTBBiNeXwEo6sIGl/JfAe0bi2AgJmMA=",
          "dtype": "f8"
         }
        }
       ],
       "layout": {
        "height": 800,
        "scene": {
         "aspectmode": "data",
         "xaxis": {
          "title": {
           "text": "X (km)"
          }
         },
         "yaxis": {
          "title": {
           "text": "Y (km)"
          }
         },
         "zaxis": {
          "title": {
           "text": "Z (km)"
          }
         }
        },
        "template": {
         "data": {
          "bar": [
           {
            "error_x": {
             "color": "#2a3f5f"
            },
            "error_y": {
             "color": "#2a3f5f"
            },
            "marker": {
             "line": {
              "color": "#E5ECF6",
              "width": 0.5
             },
             "pattern": {
              "fillmode": "overlay",
              "size": 10,
              "solidity": 0.2
             }
            },
            "type": "bar"
           }
          ],
          "barpolar": [
           {
            "marker": {
             "line": {
              "color": "#E5ECF6",
              "width": 0.5
             },
             "pattern": {
              "fillmode": "overlay",
              "size": 10,
              "solidity": 0.2
             }
            },
            "type": "barpolar"
           }
          ],
          "carpet": [
           {
            "aaxis": {
             "endlinecolor": "#2a3f5f",
             "gridcolor": "white",
             "linecolor": "white",
             "minorgridcolor": "white",
             "startlinecolor": "#2a3f5f"
            },
            "baxis": {
             "endlinecolor": "#2a3f5f",
             "gridcolor": "white",
             "linecolor": "white",
             "minorgridcolor": "white",
             "startlinecolor": "#2a3f5f"
            },
            "type": "carpet"
           }
          ],
          "choropleth": [
           {
            "colorbar": {
             "outlinewidth": 0,
             "ticks": ""
            },
            "type": "choropleth"
           }
          ],
          "contour": [
           {
            "colorbar": {
             "outlinewidth": 0,
             "ticks": ""
            },
            "colorscale": [
             [
              0,
              "#0d0887"
             ],
             [
              0.1111111111111111,
              "#46039f"
             ],
             [
              0.2222222222222222,
              "#7201a8"
             ],
             [
              0.3333333333333333,
              "#9c179e"
             ],
             [
              0.4444444444444444,
              "#bd3786"
             ],
             [
              0.5555555555555556,
              "#d8576b"
             ],
             [
              0.6666666666666666,
              "#ed7953"
             ],
             [
              0.7777777777777778,
              "#fb9f3a"
             ],
             [
              0.8888888888888888,
              "#fdca26"
             ],
             [
              1,
              "#f0f921"
             ]
            ],
            "type": "contour"
           }
          ],
          "contourcarpet": [
           {
            "colorbar": {
             "outlinewidth": 0,
             "ticks": ""
            },
            "type": "contourcarpet"
           }
          ],
          "heatmap": [
           {
            "colorbar": {
             "outlinewidth": 0,
             "ticks": ""
            },
            "colorscale": [
             [
              0,
              "#0d0887"
             ],
             [
              0.1111111111111111,
              "#46039f"
             ],
             [
              0.2222222222222222,
              "#7201a8"
             ],
             [
              0.3333333333333333,
              "#9c179e"
             ],
             [
              0.4444444444444444,
              "#bd3786"
             ],
             [
              0.5555555555555556,
              "#d8576b"
             ],
             [
              0.6666666666666666,
              "#ed7953"
             ],
             [
              0.7777777777777778,
              "#fb9f3a"
             ],
             [
              0.8888888888888888,
              "#fdca26"
             ],
             [
              1,
              "#f0f921"
             ]
            ],
            "type": "heatmap"
           }
          ],
          "histogram": [
           {
            "marker": {
             "pattern": {
              "fillmode": "overlay",
              "size": 10,
              "solidity": 0.2
             }
            },
            "type": "histogram"
           }
          ],
          "histogram2d": [
           {
            "colorbar": {
             "outlinewidth": 0,
             "ticks": ""
            },
            "colorscale": [
             [
              0,
              "#0d0887"
             ],
             [
              0.1111111111111111,
              "#46039f"
             ],
             [
              0.2222222222222222,
              "#7201a8"
             ],
             [
              0.3333333333333333,
              "#9c179e"
             ],
             [
              0.4444444444444444,
              "#bd3786"
             ],
             [
              0.5555555555555556,
              "#d8576b"
             ],
             [
              0.6666666666666666,
              "#ed7953"
             ],
             [
              0.7777777777777778,
              "#fb9f3a"
             ],
             [
              0.8888888888888888,
              "#fdca26"
             ],
             [
              1,
              "#f0f921"
             ]
            ],
            "type": "histogram2d"
           }
          ],
          "histogram2dcontour": [
           {
            "colorbar": {
             "outlinewidth": 0,
             "ticks": ""
            },
            "colorscale": [
             [
              0,
              "#0d0887"
             ],
             [
              0.1111111111111111,
              "#46039f"
             ],
             [
              0.2222222222222222,
              "#7201a8"
             ],
             [
              0.3333333333333333,
              "#9c179e"
             ],
             [
              0.4444444444444444,
              "#bd3786"
             ],
             [
              0.5555555555555556,
              "#d8576b"
             ],
             [
              0.6666666666666666,
              "#ed7953"
             ],
             [
              0.7777777777777778,
              "#fb9f3a"
             ],
             [
              0.8888888888888888,
              "#fdca26"
             ],
             [
              1,
              "#f0f921"
             ]
            ],
            "type": "histogram2dcontour"
           }
          ],
          "mesh3d": [
           {
            "colorbar": {
             "outlinewidth": 0,
             "ticks": ""
            },
            "type": "mesh3d"
           }
          ],
          "parcoords": [
           {
            "line": {
             "colorbar": {
              "outlinewidth": 0,
              "ticks": ""
             }
            },
            "type": "parcoords"
           }
          ],
          "pie": [
           {
            "automargin": true,
            "type": "pie"
           }
          ],
          "scatter": [
           {
            "fillpattern": {
             "fillmode": "overlay",
             "size": 10,
             "solidity": 0.2
            },
            "type": "scatter"
           }
          ],
          "scatter3d": [
           {
            "line": {
             "colorbar": {
              "outlinewidth": 0,
              "ticks": ""
             }
            },
            "marker": {
             "colorbar": {
              "outlinewidth": 0,
              "ticks": ""
             }
            },
            "type": "scatter3d"
           }
          ],
          "scattercarpet": [
           {
            "marker": {
             "colorbar": {
              "outlinewidth": 0,
              "ticks": ""
             }
            },
            "type": "scattercarpet"
           }
          ],
          "scattergeo": [
           {
            "marker": {
             "colorbar": {
              "outlinewidth": 0,
              "ticks": ""
             }
            },
            "type": "scattergeo"
           }
          ],
          "scattergl": [
           {
            "marker": {
             "colorbar": {
              "outlinewidth": 0,
              "ticks": ""
             }
            },
            "type": "scattergl"
           }
          ],
          "scattermap": [
           {
            "marker": {
             "colorbar": {
              "outlinewidth": 0,
              "ticks": ""
             }
            },
            "type": "scattermap"
           }
          ],
          "scattermapbox": [
           {
            "marker": {
             "colorbar": {
              "outlinewidth": 0,
              "ticks": ""
             }
            },
            "type": "scattermapbox"
           }
          ],
          "scatterpolar": [
           {
            "marker": {
             "colorbar": {
              "outlinewidth": 0,
              "ticks": ""
             }
            },
            "type": "scatterpolar"
           }
          ],
          "scatterpolargl": [
           {
            "marker": {
             "colorbar": {
              "outlinewidth": 0,
              "ticks": ""
             }
            },
            "type": "scatterpolargl"
           }
          ],
          "scatterternary": [
           {
            "marker": {
             "colorbar": {
              "outlinewidth": 0,
              "ticks": ""
             }
            },
            "type": "scatterternary"
           }
          ],
          "surface": [
           {
            "colorbar": {
             "outlinewidth": 0,
             "ticks": ""
            },
            "colorscale": [
             [
              0,
              "#0d0887"
             ],
             [
              0.1111111111111111,
              "#46039f"
             ],
             [
              0.2222222222222222,
              "#7201a8"
             ],
             [
              0.3333333333333333,
              "#9c179e"
             ],
             [
              0.4444444444444444,
              "#bd3786"
             ],
             [
              0.5555555555555556,
              "#d8576b"
             ],
             [
              0.6666666666666666,
              "#ed7953"
             ],
             [
              0.7777777777777778,
              "#fb9f3a"
             ],
             [
              0.8888888888888888,
              "#fdca26"
             ],
             [
              1,
              "#f0f921"
             ]
            ],
            "type": "surface"
           }
          ],
          "table": [
           {
            "cells": {
             "fill": {
              "color": "#EBF0F8"
             },
             "line": {
              "color": "white"
             }
            },
            "header": {
             "fill": {
              "color": "#C8D4E3"
             },
             "line": {
              "color": "white"
             }
            },
            "type": "table"
           }
          ]
         },
         "layout": {
          "annotationdefaults": {
           "arrowcolor": "#2a3f5f",
           "arrowhead": 0,
           "arrowwidth": 1
          },
          "autotypenumbers": "strict",
          "coloraxis": {
           "colorbar": {
            "outlinewidth": 0,
            "ticks": ""
           }
          },
          "colorscale": {
           "diverging": [
            [
             0,
             "#8e0152"
            ],
            [
             0.1,
             "#c51b7d"
            ],
            [
             0.2,
             "#de77ae"
            ],
            [
             0.3,
             "#f1b6da"
            ],
            [
             0.4,
             "#fde0ef"
            ],
            [
             0.5,
             "#f7f7f7"
            ],
            [
             0.6,
             "#e6f5d0"
            ],
            [
             0.7,
             "#b8e186"
            ],
            [
             0.8,
             "#7fbc41"
            ],
            [
             0.9,
             "#4d9221"
            ],
            [
             1,
             "#276419"
            ]
           ],
           "sequential": [
            [
             0,
             "#0d0887"
            ],
            [
             0.1111111111111111,
             "#46039f"
            ],
            [
             0.2222222222222222,
             "#7201a8"
            ],
            [
             0.3333333333333333,
             "#9c179e"
            ],
            [
             0.4444444444444444,
             "#bd3786"
            ],
            [
             0.5555555555555556,
             "#d8576b"
            ],
            [
             0.6666666666666666,
             "#ed7953"
            ],
            [
             0.7777777777777778,
             "#fb9f3a"
            ],
            [
             0.8888888888888888,
             "#fdca26"
            ],
            [
             1,
             "#f0f921"
            ]
           ],
           "sequentialminus": [
            [
             0,
             "#0d0887"
            ],
            [
             0.1111111111111111,
             "#46039f"
            ],
            [
             0.2222222222222222,
             "#7201a8"
            ],
            [
             0.3333333333333333,
             "#9c179e"
            ],
            [
             0.4444444444444444,
             "#bd3786"
            ],
            [
             0.5555555555555556,
             "#d8576b"
            ],
            [
             0.6666666666666666,
             "#ed7953"
            ],
            [
             0.7777777777777778,
             "#fb9f3a"
            ],
            [
             0.8888888888888888,
             "#fdca26"
            ],
            [
             1,
             "#f0f921"
            ]
           ]
          },
          "colorway": [
           "#636efa",
           "#EF553B",
           "#00cc96",
           "#ab63fa",
           "#FFA15A",
           "#19d3f3",
           "#FF6692",
           "#B6E880",
           "#FF97FF",
           "#FECB52"
          ],
          "font": {
           "color": "#2a3f5f"
          },
          "geo": {
           "bgcolor": "white",
           "lakecolor": "white",
           "landcolor": "#E5ECF6",
           "showlakes": true,
           "showland": true,
           "subunitcolor": "white"
          },
          "hoverlabel": {
           "align": "left"
          },
          "hovermode": "closest",
          "mapbox": {
           "style": "light"
          },
          "paper_bgcolor": "white",
          "plot_bgcolor": "#E5ECF6",
          "polar": {
           "angularaxis": {
            "gridcolor": "white",
            "linecolor": "white",
            "ticks": ""
           },
           "bgcolor": "#E5ECF6",
           "radialaxis": {
            "gridcolor": "white",
            "linecolor": "white",
            "ticks": ""
           }
          },
          "scene": {
           "xaxis": {
            "backgroundcolor": "#E5ECF6",
            "gridcolor": "white",
            "gridwidth": 2,
            "linecolor": "white",
            "showbackground": true,
            "ticks": "",
            "zerolinecolor": "white"
           },
           "yaxis": {
            "backgroundcolor": "#E5ECF6",
            "gridcolor": "white",
            "gridwidth": 2,
            "linecolor": "white",
            "showbackground": true,
            "ticks": "",
            "zerolinecolor": "white"
           },
           "zaxis": {
            "backgroundcolor": "#E5ECF6",
            "gridcolor": "white",
            "gridwidth": 2,
            "linecolor": "white",
            "showbackground": true,
            "ticks": "",
            "zerolinecolor": "white"
           }
          },
          "shapedefaults": {
           "line": {
            "color": "#2a3f5f"
           }
          },
          "ternary": {
           "aaxis": {
            "gridcolor": "white",
            "linecolor": "white",
            "ticks": ""
           },
           "baxis": {
            "gridcolor": "white",
            "linecolor": "white",
            "ticks": ""
           },
           "bgcolor": "#E5ECF6",
           "caxis": {
            "gridcolor": "white",
            "linecolor": "white",
            "ticks": ""
           }
          },
          "title": {
           "x": 0.05
          },
          "xaxis": {
           "automargin": true,
           "gridcolor": "white",
           "linecolor": "white",
           "ticks": "",
           "title": {
            "standoff": 15
           },
           "zerolinecolor": "white",
           "zerolinewidth": 2
          },
          "yaxis": {
           "automargin": true,
           "gridcolor": "white",
           "linecolor": "white",
           "ticks": "",
           "title": {
            "standoff": 15
           },
           "zerolinecolor": "white",
           "zerolinewidth": 2
          }
         }
        },
        "title": {
         "text": "Satellite Coverage Footprints on Lunar Surface"
        },
        "width": 800
       }
      }
     },
     "metadata": {},
     "output_type": "display_data"
    }
   ],
   "source": [
    "import numpy as np\n",
    "import plotly.graph_objects as go\n",
    "\n",
    "# Constants\n",
    "moon_radius = 1737.4  # km\n",
    "altitude = 2000        # km\n",
    "max_fov = 90          # degrees\n",
    "\n",
    "# Coverage half-angle\n",
    "half_ang = np.radians(min(max_fov, np.degrees(np.arccos(moon_radius / (moon_radius + altitude)))))\n",
    "\n",
    "# Orbital radius and satellite positions (equatorial plane)\n",
    "r_orbit = moon_radius + altitude\n",
    "n_sat = int(np.ceil(360 / (2 * np.degrees(half_ang))))\n",
    "phis = np.linspace(0, 2*np.pi, n_sat, endpoint=False)\n",
    "sat_positions = np.vstack([\n",
    "    r_orbit * np.cos(phis),\n",
    "    r_orbit * np.sin(phis),\n",
    "    np.zeros_like(phis)\n",
    "]).T  # (n_sat,3)\n",
    "\n",
    "# Function to compute coverage circle on sphere for a satellite\n",
    "def coverage_circle(sat_pos, half_ang, R):\n",
    "    d = -sat_pos / np.linalg.norm(sat_pos)  # nadir direction\n",
    "    # orthonormal basis perpendicular to d\n",
    "    # pick arbitrary vector not collinear with d\n",
    "    arbitrary = np.array([1,0,0]) if abs(d[0])<0.9 else np.array([0,1,0])\n",
    "    v = np.cross(d, arbitrary)\n",
    "    v /= np.linalg.norm(v)\n",
    "    w = np.cross(d, v)\n",
    "\n",
    "    # circle points\n",
    "    thetas = np.linspace(0, 2*np.pi, 100)\n",
    "    circle = []\n",
    "    for th in thetas:\n",
    "        direction = np.cos(half_ang)*d + np.sin(half_ang)*(v*np.cos(th)+w*np.sin(th))\n",
    "        point = R * direction\n",
    "        circle.append(point)\n",
    "    return np.array(circle)\n",
    "\n",
    "# Build figure\n",
    "fig = go.Figure()\n",
    "\n",
    "# Plot Moon surface\n",
    "u, v = np.mgrid[0:2*np.pi:50j, 0:np.pi:25j]\n",
    "x_s = moon_radius * np.cos(u) * np.sin(v)\n",
    "y_s = moon_radius * np.sin(u) * np.sin(v)\n",
    "z_s = moon_radius * np.cos(v)\n",
    "fig.add_trace(go.Surface(x=x_s, y=y_s, z=z_s, colorscale='Gray', opacity=0.5, showscale=False))\n",
    "\n",
    "# Plot satellites\n",
    "fig.add_trace(go.Scatter3d(\n",
    "    x=sat_positions[:,0], y=sat_positions[:,1], z=sat_positions[:,2],\n",
    "    mode='markers', marker=dict(size=4, color='red'), name='Satellites'\n",
    "))\n",
    "\n",
    "# Plot coverage circles on surface\n",
    "for i, sat in enumerate(sat_positions):\n",
    "    circle = coverage_circle(sat, half_ang, moon_radius)\n",
    "    fig.add_trace(go.Scatter3d(\n",
    "        x=circle[:,0], y=circle[:,1], z=circle[:,2],\n",
    "        mode='lines', line=dict(color='blue', width=2),\n",
    "        name=f'Coverage {i+1}' if i==0 else None, showlegend=(i==0)\n",
    "    ))\n",
    "\n",
    "# Layout\n",
    "fig.update_layout(\n",
    "    title=\"Satellite Coverage Footprints on Lunar Surface\",\n",
    "    scene=dict(\n",
    "        xaxis=dict(title='X (km)'),\n",
    "        yaxis=dict(title='Y (km)'),\n",
    "        zaxis=dict(title='Z (km)'),\n",
    "        aspectmode='data'\n",
    "    ),\n",
    "    width=800, height=800\n",
    ")\n",
    "\n",
    "fig.show()\n"
   ]
  },
  {
   "cell_type": "code",
   "execution_count": 4,
   "id": "459aee04",
   "metadata": {},
   "outputs": [
    {
     "data": {
      "application/vnd.plotly.v1+json": {
       "config": {
        "plotlyServerURL": "https://plot.ly"
       },
       "data": [
        {
         "colorscale": [
          [
           0,
           "rgb(0, 0, 0)"
          ],
          [
           0.09090909090909091,
           "rgb(16, 16, 16)"
          ],
          [
           0.18181818181818182,
           "rgb(38, 38, 38)"
          ],
          [
           0.2727272727272727,
           "rgb(59, 59, 59)"
          ],
          [
           0.36363636363636365,
           "rgb(81, 80, 80)"
          ],
          [
           0.45454545454545453,
           "rgb(102, 101, 101)"
          ],
          [
           0.5454545454545454,
           "rgb(124, 123, 122)"
          ],
          [
           0.6363636363636364,
           "rgb(146, 146, 145)"
          ],
          [
           0.7272727272727273,
           "rgb(171, 171, 170)"
          ],
          [
           0.8181818181818182,
           "rgb(197, 197, 195)"
          ],
          [
           0.9090909090909091,
           "rgb(224, 224, 223)"
          ],
          [
           1,
           "rgb(254, 254, 253)"
          ]
         ],
         "opacity": 0.7,
         "showscale": false,
         "type": "surface",
         "x": {
          "bdata": "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",
          "dtype": "f8",
          "shape": "50, 25"
         },
         "y": {
          "bdata": "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",
          "dtype": "f8",
          "shape": "50, 25"
         },
         "z": {
          "bdata": "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",
          "dtype": "f8",
          "shape": "50, 25"
         }
        },
        {
         "marker": {
          "color": "red",
          "size": 5
         },
         "mode": "markers",
         "name": "Satellites",
         "type": "scatter3d",
         "x": {
          "bdata": "zczMzMyyoEDOzMzMzLKQQMvMzMzMspDAzczMzMyyoMDRzMzMzLKQwMfMzMzMspBA",
          "dtype": "f8"
         },
         "y": {
          "bdata": "AAAAAAAAAAA25n4bKsWZQDfmfhsqxZlAm1wjg25pUD015n4bKsWZwDrmfhsqxZnA",
          "dtype": "f8"
         },
         "z": {
          "bdata": "AAAAAAAAAAD1D2yt2EKKQPYPbK3YQopA8+1vBXm5QD3zD2yt2EKKwPkPbK3YQorA",
          "dtype": "f8"
         }
        },
        {
         "line": {
          "color": "orange",
          "width": 2
         },
         "mode": "lines",
         "showlegend": false,
         "type": "scatter3d",
         "x": [
          2137.4,
          1737.4
         ],
         "y": [
          0,
          0
         ],
         "z": [
          0,
          0
         ]
        },
        {
         "line": {
          "color": "orange",
          "width": 2
         },
         "mode": "lines",
         "showlegend": false,
         "type": "scatter3d",
         "x": [
          1068.7000000000003,
          868.7000000000003
         ],
         "y": [
          1649.2911205127725,
          1340.6374065588525
         ],
         "z": [
          840.3557995264406,
          683.0888771859446
         ]
        },
        {
         "line": {
          "color": "orange",
          "width": 2
         },
         "mode": "lines",
         "showlegend": false,
         "type": "scatter3d",
         "x": [
          -1068.6999999999996,
          -868.6999999999997
         ],
         "y": [
          1649.2911205127727,
          1340.6374065588527
         ],
         "z": [
          840.3557995264407,
          683.0888771859447
         ]
        },
        {
         "line": {
          "color": "orange",
          "width": 2
         },
         "mode": "lines",
         "showlegend": false,
         "type": "scatter3d",
         "x": [
          -2137.4,
          -1737.4
         ],
         "y": [
          2.332263098486271e-13,
          1.8957957833395935e-13
         ],
         "z": [
          1.1883474035954863e-13,
          9.659561986557491e-14
         ]
        },
        {
         "line": {
          "color": "orange",
          "width": 2
         },
         "mode": "lines",
         "showlegend": false,
         "type": "scatter3d",
         "x": [
          -1068.700000000001,
          -868.7000000000008
         ],
         "y": [
          -1649.2911205127723,
          -1340.637406558852
         ],
         "z": [
          -840.3557995264404,
          -683.0888771859444
         ]
        },
        {
         "line": {
          "color": "orange",
          "width": 2
         },
         "mode": "lines",
         "showlegend": false,
         "type": "scatter3d",
         "x": [
          1068.6999999999987,
          868.6999999999989
         ],
         "y": [
          -1649.2911205127734,
          -1340.6374065588532
         ],
         "z": [
          -840.355799526441,
          -683.0888771859449
         ]
        },
        {
         "line": {
          "color": "red",
          "width": 2
         },
         "mode": "lines",
         "showlegend": false,
         "type": "scatter3d",
         "x": [
          2137.4,
          1068.7000000000003
         ],
         "y": [
          0,
          1649.2911205127725
         ],
         "z": [
          0,
          840.3557995264406
         ]
        },
        {
         "line": {
          "color": "red",
          "width": 2
         },
         "mode": "lines",
         "showlegend": false,
         "type": "scatter3d",
         "x": [
          1068.7000000000003,
          -1068.6999999999996
         ],
         "y": [
          1649.2911205127725,
          1649.2911205127727
         ],
         "z": [
          840.3557995264406,
          840.3557995264407
         ]
        },
        {
         "line": {
          "color": "red",
          "width": 2
         },
         "mode": "lines",
         "showlegend": false,
         "type": "scatter3d",
         "x": [
          -1068.6999999999996,
          -2137.4
         ],
         "y": [
          1649.2911205127727,
          2.332263098486271e-13
         ],
         "z": [
          840.3557995264407,
          1.1883474035954863e-13
         ]
        },
        {
         "line": {
          "color": "red",
          "width": 2
         },
         "mode": "lines",
         "showlegend": false,
         "type": "scatter3d",
         "x": [
          -2137.4,
          -1068.700000000001
         ],
         "y": [
          2.332263098486271e-13,
          -1649.2911205127723
         ],
         "z": [
          1.1883474035954863e-13,
          -840.3557995264404
         ]
        },
        {
         "line": {
          "color": "red",
          "width": 2
         },
         "mode": "lines",
         "showlegend": false,
         "type": "scatter3d",
         "x": [
          -1068.700000000001,
          1068.6999999999987
         ],
         "y": [
          -1649.2911205127723,
          -1649.2911205127734
         ],
         "z": [
          -840.3557995264404,
          -840.355799526441
         ]
        },
        {
         "line": {
          "color": "red",
          "width": 2
         },
         "mode": "lines",
         "showlegend": false,
         "type": "scatter3d",
         "x": [
          1068.6999999999987,
          2137.4
         ],
         "y": [
          -1649.2911205127734,
          0
         ],
         "z": [
          -840.355799526441,
          0
         ]
        }
       ],
       "layout": {
        "height": 700,
        "scene": {
         "aspectmode": "data",
         "xaxis": {
          "title": {
           "text": "X (km)"
          }
         },
         "yaxis": {
          "title": {
           "text": "Y (km)"
          }
         },
         "zaxis": {
          "title": {
           "text": "Z (km)"
          }
         }
        },
        "showlegend": true,
        "template": {
         "data": {
          "bar": [
           {
            "error_x": {
             "color": "#2a3f5f"
            },
            "error_y": {
             "color": "#2a3f5f"
            },
            "marker": {
             "line": {
              "color": "#E5ECF6",
              "width": 0.5
             },
             "pattern": {
              "fillmode": "overlay",
              "size": 10,
              "solidity": 0.2
             }
            },
            "type": "bar"
           }
          ],
          "barpolar": [
           {
            "marker": {
             "line": {
              "color": "#E5ECF6",
              "width": 0.5
             },
             "pattern": {
              "fillmode": "overlay",
              "size": 10,
              "solidity": 0.2
             }
            },
            "type": "barpolar"
           }
          ],
          "carpet": [
           {
            "aaxis": {
             "endlinecolor": "#2a3f5f",
             "gridcolor": "white",
             "linecolor": "white",
             "minorgridcolor": "white",
             "startlinecolor": "#2a3f5f"
            },
            "baxis": {
             "endlinecolor": "#2a3f5f",
             "gridcolor": "white",
             "linecolor": "white",
             "minorgridcolor": "white",
             "startlinecolor": "#2a3f5f"
            },
            "type": "carpet"
           }
          ],
          "choropleth": [
           {
            "colorbar": {
             "outlinewidth": 0,
             "ticks": ""
            },
            "type": "choropleth"
           }
          ],
          "contour": [
           {
            "colorbar": {
             "outlinewidth": 0,
             "ticks": ""
            },
            "colorscale": [
             [
              0,
              "#0d0887"
             ],
             [
              0.1111111111111111,
              "#46039f"
             ],
             [
              0.2222222222222222,
              "#7201a8"
             ],
             [
              0.3333333333333333,
              "#9c179e"
             ],
             [
              0.4444444444444444,
              "#bd3786"
             ],
             [
              0.5555555555555556,
              "#d8576b"
             ],
             [
              0.6666666666666666,
              "#ed7953"
             ],
             [
              0.7777777777777778,
              "#fb9f3a"
             ],
             [
              0.8888888888888888,
              "#fdca26"
             ],
             [
              1,
              "#f0f921"
             ]
            ],
            "type": "contour"
           }
          ],
          "contourcarpet": [
           {
            "colorbar": {
             "outlinewidth": 0,
             "ticks": ""
            },
            "type": "contourcarpet"
           }
          ],
          "heatmap": [
           {
            "colorbar": {
             "outlinewidth": 0,
             "ticks": ""
            },
            "colorscale": [
             [
              0,
              "#0d0887"
             ],
             [
              0.1111111111111111,
              "#46039f"
             ],
             [
              0.2222222222222222,
              "#7201a8"
             ],
             [
              0.3333333333333333,
              "#9c179e"
             ],
             [
              0.4444444444444444,
              "#bd3786"
             ],
             [
              0.5555555555555556,
              "#d8576b"
             ],
             [
              0.6666666666666666,
              "#ed7953"
             ],
             [
              0.7777777777777778,
              "#fb9f3a"
             ],
             [
              0.8888888888888888,
              "#fdca26"
             ],
             [
              1,
              "#f0f921"
             ]
            ],
            "type": "heatmap"
           }
          ],
          "histogram": [
           {
            "marker": {
             "pattern": {
              "fillmode": "overlay",
              "size": 10,
              "solidity": 0.2
             }
            },
            "type": "histogram"
           }
          ],
          "histogram2d": [
           {
            "colorbar": {
             "outlinewidth": 0,
             "ticks": ""
            },
            "colorscale": [
             [
              0,
              "#0d0887"
             ],
             [
              0.1111111111111111,
              "#46039f"
             ],
             [
              0.2222222222222222,
              "#7201a8"
             ],
             [
              0.3333333333333333,
              "#9c179e"
             ],
             [
              0.4444444444444444,
              "#bd3786"
             ],
             [
              0.5555555555555556,
              "#d8576b"
             ],
             [
              0.6666666666666666,
              "#ed7953"
             ],
             [
              0.7777777777777778,
              "#fb9f3a"
             ],
             [
              0.8888888888888888,
              "#fdca26"
             ],
             [
              1,
              "#f0f921"
             ]
            ],
            "type": "histogram2d"
           }
          ],
          "histogram2dcontour": [
           {
            "colorbar": {
             "outlinewidth": 0,
             "ticks": ""
            },
            "colorscale": [
             [
              0,
              "#0d0887"
             ],
             [
              0.1111111111111111,
              "#46039f"
             ],
             [
              0.2222222222222222,
              "#7201a8"
             ],
             [
              0.3333333333333333,
              "#9c179e"
             ],
             [
              0.4444444444444444,
              "#bd3786"
             ],
             [
              0.5555555555555556,
              "#d8576b"
             ],
             [
              0.6666666666666666,
              "#ed7953"
             ],
             [
              0.7777777777777778,
              "#fb9f3a"
             ],
             [
              0.8888888888888888,
              "#fdca26"
             ],
             [
              1,
              "#f0f921"
             ]
            ],
            "type": "histogram2dcontour"
           }
          ],
          "mesh3d": [
           {
            "colorbar": {
             "outlinewidth": 0,
             "ticks": ""
            },
            "type": "mesh3d"
           }
          ],
          "parcoords": [
           {
            "line": {
             "colorbar": {
              "outlinewidth": 0,
              "ticks": ""
             }
            },
            "type": "parcoords"
           }
          ],
          "pie": [
           {
            "automargin": true,
            "type": "pie"
           }
          ],
          "scatter": [
           {
            "fillpattern": {
             "fillmode": "overlay",
             "size": 10,
             "solidity": 0.2
            },
            "type": "scatter"
           }
          ],
          "scatter3d": [
           {
            "line": {
             "colorbar": {
              "outlinewidth": 0,
              "ticks": ""
             }
            },
            "marker": {
             "colorbar": {
              "outlinewidth": 0,
              "ticks": ""
             }
            },
            "type": "scatter3d"
           }
          ],
          "scattercarpet": [
           {
            "marker": {
             "colorbar": {
              "outlinewidth": 0,
              "ticks": ""
             }
            },
            "type": "scattercarpet"
           }
          ],
          "scattergeo": [
           {
            "marker": {
             "colorbar": {
              "outlinewidth": 0,
              "ticks": ""
             }
            },
            "type": "scattergeo"
           }
          ],
          "scattergl": [
           {
            "marker": {
             "colorbar": {
              "outlinewidth": 0,
              "ticks": ""
             }
            },
            "type": "scattergl"
           }
          ],
          "scattermap": [
           {
            "marker": {
             "colorbar": {
              "outlinewidth": 0,
              "ticks": ""
             }
            },
            "type": "scattermap"
           }
          ],
          "scattermapbox": [
           {
            "marker": {
             "colorbar": {
              "outlinewidth": 0,
              "ticks": ""
             }
            },
            "type": "scattermapbox"
           }
          ],
          "scatterpolar": [
           {
            "marker": {
             "colorbar": {
              "outlinewidth": 0,
              "ticks": ""
             }
            },
            "type": "scatterpolar"
           }
          ],
          "scatterpolargl": [
           {
            "marker": {
             "colorbar": {
              "outlinewidth": 0,
              "ticks": ""
             }
            },
            "type": "scatterpolargl"
           }
          ],
          "scatterternary": [
           {
            "marker": {
             "colorbar": {
              "outlinewidth": 0,
              "ticks": ""
             }
            },
            "type": "scatterternary"
           }
          ],
          "surface": [
           {
            "colorbar": {
             "outlinewidth": 0,
             "ticks": ""
            },
            "colorscale": [
             [
              0,
              "#0d0887"
             ],
             [
              0.1111111111111111,
              "#46039f"
             ],
             [
              0.2222222222222222,
              "#7201a8"
             ],
             [
              0.3333333333333333,
              "#9c179e"
             ],
             [
              0.4444444444444444,
              "#bd3786"
             ],
             [
              0.5555555555555556,
              "#d8576b"
             ],
             [
              0.6666666666666666,
              "#ed7953"
             ],
             [
              0.7777777777777778,
              "#fb9f3a"
             ],
             [
              0.8888888888888888,
              "#fdca26"
             ],
             [
              1,
              "#f0f921"
             ]
            ],
            "type": "surface"
           }
          ],
          "table": [
           {
            "cells": {
             "fill": {
              "color": "#EBF0F8"
             },
             "line": {
              "color": "white"
             }
            },
            "header": {
             "fill": {
              "color": "#C8D4E3"
             },
             "line": {
              "color": "white"
             }
            },
            "type": "table"
           }
          ]
         },
         "layout": {
          "annotationdefaults": {
           "arrowcolor": "#2a3f5f",
           "arrowhead": 0,
           "arrowwidth": 1
          },
          "autotypenumbers": "strict",
          "coloraxis": {
           "colorbar": {
            "outlinewidth": 0,
            "ticks": ""
           }
          },
          "colorscale": {
           "diverging": [
            [
             0,
             "#8e0152"
            ],
            [
             0.1,
             "#c51b7d"
            ],
            [
             0.2,
             "#de77ae"
            ],
            [
             0.3,
             "#f1b6da"
            ],
            [
             0.4,
             "#fde0ef"
            ],
            [
             0.5,
             "#f7f7f7"
            ],
            [
             0.6,
             "#e6f5d0"
            ],
            [
             0.7,
             "#b8e186"
            ],
            [
             0.8,
             "#7fbc41"
            ],
            [
             0.9,
             "#4d9221"
            ],
            [
             1,
             "#276419"
            ]
           ],
           "sequential": [
            [
             0,
             "#0d0887"
            ],
            [
             0.1111111111111111,
             "#46039f"
            ],
            [
             0.2222222222222222,
             "#7201a8"
            ],
            [
             0.3333333333333333,
             "#9c179e"
            ],
            [
             0.4444444444444444,
             "#bd3786"
            ],
            [
             0.5555555555555556,
             "#d8576b"
            ],
            [
             0.6666666666666666,
             "#ed7953"
            ],
            [
             0.7777777777777778,
             "#fb9f3a"
            ],
            [
             0.8888888888888888,
             "#fdca26"
            ],
            [
             1,
             "#f0f921"
            ]
           ],
           "sequentialminus": [
            [
             0,
             "#0d0887"
            ],
            [
             0.1111111111111111,
             "#46039f"
            ],
            [
             0.2222222222222222,
             "#7201a8"
            ],
            [
             0.3333333333333333,
             "#9c179e"
            ],
            [
             0.4444444444444444,
             "#bd3786"
            ],
            [
             0.5555555555555556,
             "#d8576b"
            ],
            [
             0.6666666666666666,
             "#ed7953"
            ],
            [
             0.7777777777777778,
             "#fb9f3a"
            ],
            [
             0.8888888888888888,
             "#fdca26"
            ],
            [
             1,
             "#f0f921"
            ]
           ]
          },
          "colorway": [
           "#636efa",
           "#EF553B",
           "#00cc96",
           "#ab63fa",
           "#FFA15A",
           "#19d3f3",
           "#FF6692",
           "#B6E880",
           "#FF97FF",
           "#FECB52"
          ],
          "font": {
           "color": "#2a3f5f"
          },
          "geo": {
           "bgcolor": "white",
           "lakecolor": "white",
           "landcolor": "#E5ECF6",
           "showlakes": true,
           "showland": true,
           "subunitcolor": "white"
          },
          "hoverlabel": {
           "align": "left"
          },
          "hovermode": "closest",
          "mapbox": {
           "style": "light"
          },
          "paper_bgcolor": "white",
          "plot_bgcolor": "#E5ECF6",
          "polar": {
           "angularaxis": {
            "gridcolor": "white",
            "linecolor": "white",
            "ticks": ""
           },
           "bgcolor": "#E5ECF6",
           "radialaxis": {
            "gridcolor": "white",
            "linecolor": "white",
            "ticks": ""
           }
          },
          "scene": {
           "xaxis": {
            "backgroundcolor": "#E5ECF6",
            "gridcolor": "white",
            "gridwidth": 2,
            "linecolor": "white",
            "showbackground": true,
            "ticks": "",
            "zerolinecolor": "white"
           },
           "yaxis": {
            "backgroundcolor": "#E5ECF6",
            "gridcolor": "white",
            "gridwidth": 2,
            "linecolor": "white",
            "showbackground": true,
            "ticks": "",
            "zerolinecolor": "white"
           },
           "zaxis": {
            "backgroundcolor": "#E5ECF6",
            "gridcolor": "white",
            "gridwidth": 2,
            "linecolor": "white",
            "showbackground": true,
            "ticks": "",
            "zerolinecolor": "white"
           }
          },
          "shapedefaults": {
           "line": {
            "color": "#2a3f5f"
           }
          },
          "ternary": {
           "aaxis": {
            "gridcolor": "white",
            "linecolor": "white",
            "ticks": ""
           },
           "baxis": {
            "gridcolor": "white",
            "linecolor": "white",
            "ticks": ""
           },
           "bgcolor": "#E5ECF6",
           "caxis": {
            "gridcolor": "white",
            "linecolor": "white",
            "ticks": ""
           }
          },
          "title": {
           "x": 0.05
          },
          "xaxis": {
           "automargin": true,
           "gridcolor": "white",
           "linecolor": "white",
           "ticks": "",
           "title": {
            "standoff": 15
           },
           "zerolinecolor": "white",
           "zerolinewidth": 2
          },
          "yaxis": {
           "automargin": true,
           "gridcolor": "white",
           "linecolor": "white",
           "ticks": "",
           "title": {
            "standoff": 15
           },
           "zerolinecolor": "white",
           "zerolinewidth": 2
          }
         }
        },
        "title": {
         "text": "Lunar Satellite Constellation (27° Inclination)"
        },
        "width": 900
       }
      }
     },
     "metadata": {},
     "output_type": "display_data"
    }
   ],
   "source": [
    "import numpy as np\n",
    "import math\n",
    "import plotly.graph_objects as go\n",
    "\n",
    "# Constants\n",
    "moon_radius = 1737.4  # km\n",
    "altitude = 400        # km\n",
    "inclination_deg = 27  # degrees\n",
    "max_fov = 90          # degrees\n",
    "mu = 4905             # km^3/s^2\n",
    "\n",
    "# Satellite calculation helpers\n",
    "def half_angle_coverage(altitude):\n",
    "    return math.degrees(math.acos(moon_radius / (moon_radius + altitude)))\n",
    "\n",
    "def adjusted_fov(altitude):\n",
    "    half_angle = half_angle_coverage(altitude)\n",
    "    return min(max_fov, half_angle * 2)\n",
    "\n",
    "def satellites_per_plane(altitude):\n",
    "    adj_fov = adjusted_fov(altitude)\n",
    "    return math.ceil(360 / adj_fov)\n",
    "\n",
    "# Satellite geometry\n",
    "num_sats = satellites_per_plane(altitude)\n",
    "r_orbit = moon_radius + altitude\n",
    "theta = np.linspace(0, 2 * np.pi, num_sats, endpoint=False)\n",
    "incl_rad = np.radians(inclination_deg)\n",
    "\n",
    "x_sats = r_orbit * np.cos(theta)\n",
    "y_sats = r_orbit * np.sin(theta) * np.cos(incl_rad)\n",
    "z_sats = r_orbit * np.sin(theta) * np.sin(incl_rad)\n",
    "\n",
    "x_cones = moon_radius * np.cos(theta)\n",
    "y_cones = moon_radius * np.sin(theta) * np.cos(incl_rad)\n",
    "z_cones = moon_radius * np.sin(theta) * np.sin(incl_rad)\n",
    "\n",
    "# Create the figure\n",
    "fig = go.Figure()\n",
    "\n",
    "# Moon sphere\n",
    "u, v = np.mgrid[0:2*np.pi:50j, 0:np.pi:25j]\n",
    "x_moon = moon_radius * np.cos(u) * np.sin(v)\n",
    "y_moon = moon_radius * np.sin(u) * np.sin(v)\n",
    "z_moon = moon_radius * np.cos(v)\n",
    "fig.add_trace(go.Surface(x=x_moon, y=y_moon, z=z_moon, colorscale='gray', opacity=0.7, showscale=False))\n",
    "\n",
    "# Satellite positions\n",
    "fig.add_trace(go.Scatter3d(x=x_sats, y=y_sats, z=z_sats,\n",
    "                           mode='markers',\n",
    "                           marker=dict(size=5, color='red'),\n",
    "                           name='Satellites'))\n",
    "\n",
    "# Cone lines\n",
    "for i in range(num_sats):\n",
    "    fig.add_trace(go.Scatter3d(\n",
    "        x=[x_sats[i], x_cones[i]],\n",
    "        y=[y_sats[i], y_cones[i]],\n",
    "        z=[z_sats[i], z_cones[i]],\n",
    "        mode='lines',\n",
    "        line=dict(color='orange', width=2),\n",
    "        showlegend=False\n",
    "    ))\n",
    "\n",
    "# Inter-satellite links\n",
    "for i in range(num_sats):\n",
    "    j = (i + 1) % num_sats\n",
    "    fig.add_trace(go.Scatter3d(\n",
    "        x=[x_sats[i], x_sats[j]],\n",
    "        y=[y_sats[i], y_sats[j]],\n",
    "        z=[z_sats[i], z_sats[j]],\n",
    "        mode='lines',\n",
    "        line=dict(color='red', width=2),\n",
    "        showlegend=False\n",
    "    ))\n",
    "\n",
    "# Layout\n",
    "fig.update_layout(\n",
    "    scene=dict(\n",
    "        xaxis_title='X (km)',\n",
    "        yaxis_title='Y (km)',\n",
    "        zaxis_title='Z (km)',\n",
    "        aspectmode='data'\n",
    "    ),\n",
    "    title='Lunar Satellite Constellation (27° Inclination)',\n",
    "    showlegend=True,\n",
    "    width=900,\n",
    "    height=700\n",
    ")\n",
    "\n",
    "fig.show()\n"
   ]
  },
  {
   "cell_type": "code",
   "execution_count": null,
   "id": "a560d369",
   "metadata": {},
   "outputs": [],
   "source": []
  }
 ],
 "metadata": {
  "kernelspec": {
   "display_name": "Python 3",
   "language": "python",
   "name": "python3"
  },
  "language_info": {
   "codemirror_mode": {
    "name": "ipython",
    "version": 3
   },
   "file_extension": ".py",
   "mimetype": "text/x-python",
   "name": "python",
   "nbconvert_exporter": "python",
   "pygments_lexer": "ipython3",
   "version": "3.12.5"
  }
 },
 "nbformat": 4,
 "nbformat_minor": 5
}
